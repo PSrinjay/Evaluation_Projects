{
 "cells": [
  {
   "cell_type": "code",
   "execution_count": 665,
   "metadata": {},
   "outputs": [],
   "source": [
    "import pandas as pd\n",
    "import numpy as np\n",
    "import seaborn as sns\n",
    "import matplotlib.pyplot as plt\n",
    "import warnings\n",
    "warnings.filterwarnings('ignore')"
   ]
  },
  {
   "cell_type": "code",
   "execution_count": 666,
   "metadata": {},
   "outputs": [],
   "source": [
    "df_test=pd.read_excel('E:/docfees_Test.xlsx')\n",
    "df_train=pd.read_excel('E:/docfees_Train.xlsx')"
   ]
  },
  {
   "cell_type": "code",
   "execution_count": 667,
   "metadata": {},
   "outputs": [],
   "source": [
    "df_fees=df_train.append(df_test)"
   ]
  },
  {
   "cell_type": "code",
   "execution_count": 668,
   "metadata": {},
   "outputs": [
    {
     "data": {
      "text/html": [
       "<div>\n",
       "<style scoped>\n",
       "    .dataframe tbody tr th:only-of-type {\n",
       "        vertical-align: middle;\n",
       "    }\n",
       "\n",
       "    .dataframe tbody tr th {\n",
       "        vertical-align: top;\n",
       "    }\n",
       "\n",
       "    .dataframe thead th {\n",
       "        text-align: right;\n",
       "    }\n",
       "</style>\n",
       "<table border=\"1\" class=\"dataframe\">\n",
       "  <thead>\n",
       "    <tr style=\"text-align: right;\">\n",
       "      <th></th>\n",
       "      <th>Qualification</th>\n",
       "      <th>Experience</th>\n",
       "      <th>Rating</th>\n",
       "      <th>Place</th>\n",
       "      <th>Profile</th>\n",
       "      <th>Miscellaneous_Info</th>\n",
       "      <th>Fees</th>\n",
       "    </tr>\n",
       "  </thead>\n",
       "  <tbody>\n",
       "    <tr>\n",
       "      <th>0</th>\n",
       "      <td>BHMS, MD - Homeopathy</td>\n",
       "      <td>24 years experience</td>\n",
       "      <td>100%</td>\n",
       "      <td>Kakkanad, Ernakulam</td>\n",
       "      <td>Homeopath</td>\n",
       "      <td>100% 16 Feedback Kakkanad, Ernakulam</td>\n",
       "      <td>100.0</td>\n",
       "    </tr>\n",
       "    <tr>\n",
       "      <th>1</th>\n",
       "      <td>BAMS, MD - Ayurveda Medicine</td>\n",
       "      <td>12 years experience</td>\n",
       "      <td>98%</td>\n",
       "      <td>Whitefield, Bangalore</td>\n",
       "      <td>Ayurveda</td>\n",
       "      <td>98% 76 Feedback Whitefield, Bangalore</td>\n",
       "      <td>350.0</td>\n",
       "    </tr>\n",
       "    <tr>\n",
       "      <th>2</th>\n",
       "      <td>MBBS, MS - Otorhinolaryngology</td>\n",
       "      <td>9 years experience</td>\n",
       "      <td>NaN</td>\n",
       "      <td>Mathikere - BEL, Bangalore</td>\n",
       "      <td>ENT Specialist</td>\n",
       "      <td>NaN</td>\n",
       "      <td>300.0</td>\n",
       "    </tr>\n",
       "    <tr>\n",
       "      <th>3</th>\n",
       "      <td>BSc - Zoology, BAMS</td>\n",
       "      <td>12 years experience</td>\n",
       "      <td>NaN</td>\n",
       "      <td>Bannerghatta Road, Bangalore</td>\n",
       "      <td>Ayurveda</td>\n",
       "      <td>Bannerghatta Road, Bangalore ₹250 Available on...</td>\n",
       "      <td>250.0</td>\n",
       "    </tr>\n",
       "    <tr>\n",
       "      <th>4</th>\n",
       "      <td>BAMS</td>\n",
       "      <td>20 years experience</td>\n",
       "      <td>100%</td>\n",
       "      <td>Keelkattalai, Chennai</td>\n",
       "      <td>Ayurveda</td>\n",
       "      <td>100% 4 Feedback Keelkattalai, Chennai</td>\n",
       "      <td>250.0</td>\n",
       "    </tr>\n",
       "    <tr>\n",
       "      <th>...</th>\n",
       "      <td>...</td>\n",
       "      <td>...</td>\n",
       "      <td>...</td>\n",
       "      <td>...</td>\n",
       "      <td>...</td>\n",
       "      <td>...</td>\n",
       "      <td>...</td>\n",
       "    </tr>\n",
       "    <tr>\n",
       "      <th>1982</th>\n",
       "      <td>BAMS, Doctor of Medicine</td>\n",
       "      <td>10 years experience</td>\n",
       "      <td>NaN</td>\n",
       "      <td>Basavanagudi, Bangalore</td>\n",
       "      <td>Ayurveda</td>\n",
       "      <td>NaN</td>\n",
       "      <td>NaN</td>\n",
       "    </tr>\n",
       "    <tr>\n",
       "      <th>1983</th>\n",
       "      <td>MD - Dermatology , Venereology &amp; Leprosy, MBBS</td>\n",
       "      <td>4 years experience</td>\n",
       "      <td>NaN</td>\n",
       "      <td>Choolai, Chennai</td>\n",
       "      <td>Dermatologists</td>\n",
       "      <td>NaN</td>\n",
       "      <td>NaN</td>\n",
       "    </tr>\n",
       "    <tr>\n",
       "      <th>1984</th>\n",
       "      <td>MBBS, MD / MS - Obstetrics &amp; Gynaecology</td>\n",
       "      <td>9 years experience</td>\n",
       "      <td>NaN</td>\n",
       "      <td>Porur, Chennai</td>\n",
       "      <td>General Medicine</td>\n",
       "      <td>NaN</td>\n",
       "      <td>NaN</td>\n",
       "    </tr>\n",
       "    <tr>\n",
       "      <th>1985</th>\n",
       "      <td>BDS</td>\n",
       "      <td>12 years experience</td>\n",
       "      <td>98%</td>\n",
       "      <td>Arekere, Bangalore</td>\n",
       "      <td>Dentist</td>\n",
       "      <td>RCT - Root Canal Treatment Root Canal Treatmen...</td>\n",
       "      <td>NaN</td>\n",
       "    </tr>\n",
       "    <tr>\n",
       "      <th>1986</th>\n",
       "      <td>MBBS, MD - Dermatology , Venereology &amp; Leprosy</td>\n",
       "      <td>8 years experience</td>\n",
       "      <td>NaN</td>\n",
       "      <td>Pallikaranai, Chennai</td>\n",
       "      <td>Dermatologists</td>\n",
       "      <td>1 Feedback Pallikaranai, Chennai ₹500</td>\n",
       "      <td>NaN</td>\n",
       "    </tr>\n",
       "  </tbody>\n",
       "</table>\n",
       "<p>7948 rows × 7 columns</p>\n",
       "</div>"
      ],
      "text/plain": [
       "                                       Qualification           Experience  \\\n",
       "0                              BHMS, MD - Homeopathy  24 years experience   \n",
       "1                       BAMS, MD - Ayurveda Medicine  12 years experience   \n",
       "2                     MBBS, MS - Otorhinolaryngology   9 years experience   \n",
       "3                                BSc - Zoology, BAMS  12 years experience   \n",
       "4                                               BAMS  20 years experience   \n",
       "...                                              ...                  ...   \n",
       "1982                        BAMS, Doctor of Medicine  10 years experience   \n",
       "1983  MD - Dermatology , Venereology & Leprosy, MBBS   4 years experience   \n",
       "1984        MBBS, MD / MS - Obstetrics & Gynaecology   9 years experience   \n",
       "1985                                             BDS  12 years experience   \n",
       "1986  MBBS, MD - Dermatology , Venereology & Leprosy   8 years experience   \n",
       "\n",
       "     Rating                         Place           Profile  \\\n",
       "0      100%           Kakkanad, Ernakulam         Homeopath   \n",
       "1       98%         Whitefield, Bangalore          Ayurveda   \n",
       "2       NaN    Mathikere - BEL, Bangalore    ENT Specialist   \n",
       "3       NaN  Bannerghatta Road, Bangalore          Ayurveda   \n",
       "4      100%         Keelkattalai, Chennai          Ayurveda   \n",
       "...     ...                           ...               ...   \n",
       "1982    NaN       Basavanagudi, Bangalore          Ayurveda   \n",
       "1983    NaN              Choolai, Chennai    Dermatologists   \n",
       "1984    NaN                Porur, Chennai  General Medicine   \n",
       "1985    98%            Arekere, Bangalore           Dentist   \n",
       "1986    NaN         Pallikaranai, Chennai    Dermatologists   \n",
       "\n",
       "                                     Miscellaneous_Info   Fees  \n",
       "0                  100% 16 Feedback Kakkanad, Ernakulam  100.0  \n",
       "1                 98% 76 Feedback Whitefield, Bangalore  350.0  \n",
       "2                                                   NaN  300.0  \n",
       "3     Bannerghatta Road, Bangalore ₹250 Available on...  250.0  \n",
       "4                 100% 4 Feedback Keelkattalai, Chennai  250.0  \n",
       "...                                                 ...    ...  \n",
       "1982                                                NaN    NaN  \n",
       "1983                                                NaN    NaN  \n",
       "1984                                                NaN    NaN  \n",
       "1985  RCT - Root Canal Treatment Root Canal Treatmen...    NaN  \n",
       "1986              1 Feedback Pallikaranai, Chennai ₹500    NaN  \n",
       "\n",
       "[7948 rows x 7 columns]"
      ]
     },
     "execution_count": 668,
     "metadata": {},
     "output_type": "execute_result"
    }
   ],
   "source": [
    "df_fees"
   ]
  },
  {
   "cell_type": "code",
   "execution_count": 669,
   "metadata": {},
   "outputs": [
    {
     "data": {
      "text/plain": [
       "<matplotlib.axes._subplots.AxesSubplot at 0x126ba811b48>"
      ]
     },
     "execution_count": 669,
     "metadata": {},
     "output_type": "execute_result"
    },
    {
     "data": {
      "image/png": "[encoded data removed]",
      "text/plain": [
       "<Figure size 432x288 with 2 Axes>"
      ]
     },
     "metadata": {
      "needs_background": "light"
     },
     "output_type": "display_data"
    }
   ],
   "source": [
    "#checking for any missing data\n",
    "sns.heatmap(df_fees.isnull())"
   ]
  },
  {
   "cell_type": "code",
   "execution_count": 670,
   "metadata": {},
   "outputs": [
    {
     "data": {
      "text/plain": [
       "Qualification            0\n",
       "Experience               0\n",
       "Rating                4392\n",
       "Place                   31\n",
       "Profile                  0\n",
       "Miscellaneous_Info    3454\n",
       "Fees                  1987\n",
       "dtype: int64"
      ]
     },
     "execution_count": 670,
     "metadata": {},
     "output_type": "execute_result"
    }
   ],
   "source": [
    "df_fees.isnull().sum()"
   ]
  },
  {
   "cell_type": "code",
   "execution_count": 671,
   "metadata": {},
   "outputs": [],
   "source": [
    "df_fees.drop(['Miscellaneous_Info'],axis=1,inplace=True)"
   ]
  },
  {
   "cell_type": "code",
   "execution_count": 672,
   "metadata": {},
   "outputs": [
    {
     "data": {
      "text/plain": [
       "Qualification     object\n",
       "Experience        object\n",
       "Rating            object\n",
       "Place             object\n",
       "Profile           object\n",
       "Fees             float64\n",
       "dtype: object"
      ]
     },
     "execution_count": 672,
     "metadata": {},
     "output_type": "execute_result"
    }
   ],
   "source": [
    "df_fees.dtypes"
   ]
  },
  {
   "cell_type": "code",
   "execution_count": 673,
   "metadata": {},
   "outputs": [],
   "source": [
    "df_fees['Rating']=df_fees['Rating'].str.split('%').str[0]"
   ]
  },
  {
   "cell_type": "code",
   "execution_count": 674,
   "metadata": {},
   "outputs": [],
   "source": [
    "df_fees['Rating']=df_fees['Rating'].replace(np.NaN,int(0))"
   ]
  },
  {
   "cell_type": "code",
   "execution_count": 675,
   "metadata": {},
   "outputs": [],
   "source": [
    "df_fees['Rating']=df_fees['Rating'].astype(int)"
   ]
  },
  {
   "cell_type": "code",
   "execution_count": 676,
   "metadata": {},
   "outputs": [
    {
     "data": {
      "text/plain": [
       "0       100\n",
       "1        98\n",
       "2         0\n",
       "3         0\n",
       "4       100\n",
       "       ... \n",
       "1982      0\n",
       "1983      0\n",
       "1984      0\n",
       "1985     98\n",
       "1986      0\n",
       "Name: Rating, Length: 7948, dtype: int32"
      ]
     },
     "execution_count": 676,
     "metadata": {},
     "output_type": "execute_result"
    }
   ],
   "source": [
    "df_fees['Rating']"
   ]
  },
  {
   "cell_type": "code",
   "execution_count": 677,
   "metadata": {},
   "outputs": [],
   "source": [
    "bins = [0,10,20,30,40,50,60,70,80,90,100]\n",
    "labels = [i for i in range(10)]\n",
    "df_fees[\"Rating\"] = pd.cut(df_fees[\"Rating\"],bins=bins,labels=labels,include_lowest=True)"
   ]
  },
  {
   "cell_type": "code",
   "execution_count": 678,
   "metadata": {},
   "outputs": [
    {
     "data": {
      "text/plain": [
       "0       9\n",
       "1       9\n",
       "2       0\n",
       "3       0\n",
       "4       9\n",
       "       ..\n",
       "1982    0\n",
       "1983    0\n",
       "1984    0\n",
       "1985    9\n",
       "1986    0\n",
       "Name: Rating, Length: 7948, dtype: category\n",
       "Categories (10, int64): [0 < 1 < 2 < 3 ... 6 < 7 < 8 < 9]"
      ]
     },
     "execution_count": 678,
     "metadata": {},
     "output_type": "execute_result"
    }
   ],
   "source": [
    "df_fees['Rating']"
   ]
  },
  {
   "cell_type": "code",
   "execution_count": 679,
   "metadata": {},
   "outputs": [],
   "source": [
    "df_fees['Experience']=df_fees['Experience'].str.split(' ').str[0]"
   ]
  },
  {
   "cell_type": "code",
   "execution_count": 680,
   "metadata": {},
   "outputs": [],
   "source": [
    "df_fees['Experience']=df_fees['Experience'].astype(int)"
   ]
  },
  {
   "cell_type": "code",
   "execution_count": 681,
   "metadata": {},
   "outputs": [
    {
     "data": {
      "text/plain": [
       "0       24\n",
       "1       12\n",
       "2        9\n",
       "3       12\n",
       "4       20\n",
       "        ..\n",
       "1982    10\n",
       "1983     4\n",
       "1984     9\n",
       "1985    12\n",
       "1986     8\n",
       "Name: Experience, Length: 7948, dtype: int32"
      ]
     },
     "execution_count": 681,
     "metadata": {},
     "output_type": "execute_result"
    }
   ],
   "source": [
    "df_fees['Experience']"
   ]
  },
  {
   "cell_type": "code",
   "execution_count": 682,
   "metadata": {},
   "outputs": [],
   "source": [
    "df_fees['Place']=df_fees['Place'].replace(np.NaN,'Not Known')"
   ]
  },
  {
   "cell_type": "code",
   "execution_count": 683,
   "metadata": {},
   "outputs": [],
   "source": [
    "df_fees['Place_N']=df_fees['Place'].str.split(',').str[0]"
   ]
  },
  {
   "cell_type": "code",
   "execution_count": 684,
   "metadata": {},
   "outputs": [],
   "source": [
    "df_fees['City']=df_fees['Place'].str.split(',').str[-1]"
   ]
  },
  {
   "cell_type": "code",
   "execution_count": 685,
   "metadata": {},
   "outputs": [
    {
     "name": "stdout",
     "output_type": "stream",
     "text": [
      "0                Kakkanad\n",
      "1              Whitefield\n",
      "2         Mathikere - BEL\n",
      "3       Bannerghatta Road\n",
      "4            Keelkattalai\n",
      "              ...        \n",
      "1982         Basavanagudi\n",
      "1983              Choolai\n",
      "1984                Porur\n",
      "1985              Arekere\n",
      "1986         Pallikaranai\n",
      "Name: Place_N, Length: 7948, dtype: object\n",
      "0        Ernakulam\n",
      "1        Bangalore\n",
      "2        Bangalore\n",
      "3        Bangalore\n",
      "4          Chennai\n",
      "           ...    \n",
      "1982     Bangalore\n",
      "1983       Chennai\n",
      "1984       Chennai\n",
      "1985     Bangalore\n",
      "1986       Chennai\n",
      "Name: City, Length: 7948, dtype: object\n"
     ]
    }
   ],
   "source": [
    "print(df_fees['Place_N'])\n",
    "print(df_fees['City'])"
   ]
  },
  {
   "cell_type": "code",
   "execution_count": 686,
   "metadata": {},
   "outputs": [
    {
     "data": {
      "text/plain": [
       "Qualification       0\n",
       "Experience          0\n",
       "Rating              0\n",
       "Place               0\n",
       "Profile             0\n",
       "Fees             1987\n",
       "Place_N             0\n",
       "City                0\n",
       "dtype: int64"
      ]
     },
     "execution_count": 686,
     "metadata": {},
     "output_type": "execute_result"
    }
   ],
   "source": [
    "df_fees.isnull().sum()"
   ]
  },
  {
   "cell_type": "raw",
   "metadata": {},
   "source": [
    "There no missing values in the dataset"
   ]
  },
  {
   "cell_type": "code",
   "execution_count": 687,
   "metadata": {},
   "outputs": [
    {
     "data": {
      "text/plain": [
       "Qualification      object\n",
       "Experience          int32\n",
       "Rating           category\n",
       "Place              object\n",
       "Profile            object\n",
       "Fees              float64\n",
       "Place_N            object\n",
       "City               object\n",
       "dtype: object"
      ]
     },
     "execution_count": 687,
     "metadata": {},
     "output_type": "execute_result"
    }
   ],
   "source": [
    "#checking data types\n",
    "df_fees.dtypes\n",
    "#We can see all the data is in numerical form and categorical form"
   ]
  },
  {
   "cell_type": "code",
   "execution_count": 688,
   "metadata": {},
   "outputs": [
    {
     "name": "stdout",
     "output_type": "stream",
     "text": [
      "<class 'pandas.core.frame.DataFrame'>\n",
      "Int64Index: 7948 entries, 0 to 1986\n",
      "Data columns (total 8 columns):\n",
      " #   Column         Non-Null Count  Dtype   \n",
      "---  ------         --------------  -----   \n",
      " 0   Qualification  7948 non-null   object  \n",
      " 1   Experience     7948 non-null   int32   \n",
      " 2   Rating         7948 non-null   category\n",
      " 3   Place          7948 non-null   object  \n",
      " 4   Profile        7948 non-null   object  \n",
      " 5   Fees           5961 non-null   float64 \n",
      " 6   Place_N        7948 non-null   object  \n",
      " 7   City           7948 non-null   object  \n",
      "dtypes: category(1), float64(1), int32(1), object(5)\n",
      "memory usage: 473.9+ KB\n"
     ]
    }
   ],
   "source": [
    "#checking the basic info about the attributes and their counts\n",
    "df_fees.info()"
   ]
  },
  {
   "cell_type": "code",
   "execution_count": 689,
   "metadata": {},
   "outputs": [
    {
     "data": {
      "text/html": [
       "<div>\n",
       "<style scoped>\n",
       "    .dataframe tbody tr th:only-of-type {\n",
       "        vertical-align: middle;\n",
       "    }\n",
       "\n",
       "    .dataframe tbody tr th {\n",
       "        vertical-align: top;\n",
       "    }\n",
       "\n",
       "    .dataframe thead th {\n",
       "        text-align: right;\n",
       "    }\n",
       "</style>\n",
       "<table border=\"1\" class=\"dataframe\">\n",
       "  <thead>\n",
       "    <tr style=\"text-align: right;\">\n",
       "      <th></th>\n",
       "      <th>Experience</th>\n",
       "      <th>Fees</th>\n",
       "    </tr>\n",
       "  </thead>\n",
       "  <tbody>\n",
       "    <tr>\n",
       "      <th>count</th>\n",
       "      <td>7948.000000</td>\n",
       "      <td>5961.000000</td>\n",
       "    </tr>\n",
       "    <tr>\n",
       "      <th>mean</th>\n",
       "      <td>17.446653</td>\n",
       "      <td>307.944640</td>\n",
       "    </tr>\n",
       "    <tr>\n",
       "      <th>std</th>\n",
       "      <td>11.201217</td>\n",
       "      <td>190.920373</td>\n",
       "    </tr>\n",
       "    <tr>\n",
       "      <th>min</th>\n",
       "      <td>0.000000</td>\n",
       "      <td>5.000000</td>\n",
       "    </tr>\n",
       "    <tr>\n",
       "      <th>25%</th>\n",
       "      <td>9.000000</td>\n",
       "      <td>150.000000</td>\n",
       "    </tr>\n",
       "    <tr>\n",
       "      <th>50%</th>\n",
       "      <td>15.000000</td>\n",
       "      <td>300.000000</td>\n",
       "    </tr>\n",
       "    <tr>\n",
       "      <th>75%</th>\n",
       "      <td>23.000000</td>\n",
       "      <td>500.000000</td>\n",
       "    </tr>\n",
       "    <tr>\n",
       "      <th>max</th>\n",
       "      <td>66.000000</td>\n",
       "      <td>950.000000</td>\n",
       "    </tr>\n",
       "  </tbody>\n",
       "</table>\n",
       "</div>"
      ],
      "text/plain": [
       "        Experience         Fees\n",
       "count  7948.000000  5961.000000\n",
       "mean     17.446653   307.944640\n",
       "std      11.201217   190.920373\n",
       "min       0.000000     5.000000\n",
       "25%       9.000000   150.000000\n",
       "50%      15.000000   300.000000\n",
       "75%      23.000000   500.000000\n",
       "max      66.000000   950.000000"
      ]
     },
     "execution_count": 689,
     "metadata": {},
     "output_type": "execute_result"
    }
   ],
   "source": [
    "#checking the maximum and minimum values of each attribute and their percentiles\n",
    "df_fees.describe()"
   ]
  },
  {
   "cell_type": "raw",
   "metadata": {},
   "source": [
    "# Obsevations\n",
    "\n",
    "#Mean>Median(50th percentile)\n",
    "\n",
    "#So we can say the distributions are right skewed  distribution.\n",
    "\n",
    "#There are some differences(more than std dev) between 75th percentile and maximum\n",
    "#in attributes Experience and Fees\n",
    "\n",
    "#So we can infer that some outliers might be present."
   ]
  },
  {
   "cell_type": "code",
   "execution_count": 690,
   "metadata": {},
   "outputs": [
    {
     "data": {
      "text/html": [
       "<div>\n",
       "<style scoped>\n",
       "    .dataframe tbody tr th:only-of-type {\n",
       "        vertical-align: middle;\n",
       "    }\n",
       "\n",
       "    .dataframe tbody tr th {\n",
       "        vertical-align: top;\n",
       "    }\n",
       "\n",
       "    .dataframe thead th {\n",
       "        text-align: right;\n",
       "    }\n",
       "</style>\n",
       "<table border=\"1\" class=\"dataframe\">\n",
       "  <thead>\n",
       "    <tr style=\"text-align: right;\">\n",
       "      <th></th>\n",
       "      <th>Qualification</th>\n",
       "      <th>Experience</th>\n",
       "      <th>Rating</th>\n",
       "      <th>Place</th>\n",
       "      <th>Profile</th>\n",
       "      <th>Fees</th>\n",
       "      <th>Place_N</th>\n",
       "      <th>City</th>\n",
       "    </tr>\n",
       "  </thead>\n",
       "  <tbody>\n",
       "    <tr>\n",
       "      <th>0</th>\n",
       "      <td>BHMS, MD - Homeopathy</td>\n",
       "      <td>24</td>\n",
       "      <td>9</td>\n",
       "      <td>Kakkanad, Ernakulam</td>\n",
       "      <td>Homeopath</td>\n",
       "      <td>100.0</td>\n",
       "      <td>Kakkanad</td>\n",
       "      <td>Ernakulam</td>\n",
       "    </tr>\n",
       "    <tr>\n",
       "      <th>1</th>\n",
       "      <td>BAMS, MD - Ayurveda Medicine</td>\n",
       "      <td>12</td>\n",
       "      <td>9</td>\n",
       "      <td>Whitefield, Bangalore</td>\n",
       "      <td>Ayurveda</td>\n",
       "      <td>350.0</td>\n",
       "      <td>Whitefield</td>\n",
       "      <td>Bangalore</td>\n",
       "    </tr>\n",
       "    <tr>\n",
       "      <th>2</th>\n",
       "      <td>MBBS, MS - Otorhinolaryngology</td>\n",
       "      <td>9</td>\n",
       "      <td>0</td>\n",
       "      <td>Mathikere - BEL, Bangalore</td>\n",
       "      <td>ENT Specialist</td>\n",
       "      <td>300.0</td>\n",
       "      <td>Mathikere - BEL</td>\n",
       "      <td>Bangalore</td>\n",
       "    </tr>\n",
       "    <tr>\n",
       "      <th>3</th>\n",
       "      <td>BSc - Zoology, BAMS</td>\n",
       "      <td>12</td>\n",
       "      <td>0</td>\n",
       "      <td>Bannerghatta Road, Bangalore</td>\n",
       "      <td>Ayurveda</td>\n",
       "      <td>250.0</td>\n",
       "      <td>Bannerghatta Road</td>\n",
       "      <td>Bangalore</td>\n",
       "    </tr>\n",
       "    <tr>\n",
       "      <th>4</th>\n",
       "      <td>BAMS</td>\n",
       "      <td>20</td>\n",
       "      <td>9</td>\n",
       "      <td>Keelkattalai, Chennai</td>\n",
       "      <td>Ayurveda</td>\n",
       "      <td>250.0</td>\n",
       "      <td>Keelkattalai</td>\n",
       "      <td>Chennai</td>\n",
       "    </tr>\n",
       "    <tr>\n",
       "      <th>...</th>\n",
       "      <td>...</td>\n",
       "      <td>...</td>\n",
       "      <td>...</td>\n",
       "      <td>...</td>\n",
       "      <td>...</td>\n",
       "      <td>...</td>\n",
       "      <td>...</td>\n",
       "      <td>...</td>\n",
       "    </tr>\n",
       "    <tr>\n",
       "      <th>1982</th>\n",
       "      <td>BAMS, Doctor of Medicine</td>\n",
       "      <td>10</td>\n",
       "      <td>0</td>\n",
       "      <td>Basavanagudi, Bangalore</td>\n",
       "      <td>Ayurveda</td>\n",
       "      <td>NaN</td>\n",
       "      <td>Basavanagudi</td>\n",
       "      <td>Bangalore</td>\n",
       "    </tr>\n",
       "    <tr>\n",
       "      <th>1983</th>\n",
       "      <td>MD - Dermatology , Venereology &amp; Leprosy, MBBS</td>\n",
       "      <td>4</td>\n",
       "      <td>0</td>\n",
       "      <td>Choolai, Chennai</td>\n",
       "      <td>Dermatologists</td>\n",
       "      <td>NaN</td>\n",
       "      <td>Choolai</td>\n",
       "      <td>Chennai</td>\n",
       "    </tr>\n",
       "    <tr>\n",
       "      <th>1984</th>\n",
       "      <td>MBBS, MD / MS - Obstetrics &amp; Gynaecology</td>\n",
       "      <td>9</td>\n",
       "      <td>0</td>\n",
       "      <td>Porur, Chennai</td>\n",
       "      <td>General Medicine</td>\n",
       "      <td>NaN</td>\n",
       "      <td>Porur</td>\n",
       "      <td>Chennai</td>\n",
       "    </tr>\n",
       "    <tr>\n",
       "      <th>1985</th>\n",
       "      <td>BDS</td>\n",
       "      <td>12</td>\n",
       "      <td>9</td>\n",
       "      <td>Arekere, Bangalore</td>\n",
       "      <td>Dentist</td>\n",
       "      <td>NaN</td>\n",
       "      <td>Arekere</td>\n",
       "      <td>Bangalore</td>\n",
       "    </tr>\n",
       "    <tr>\n",
       "      <th>1986</th>\n",
       "      <td>MBBS, MD - Dermatology , Venereology &amp; Leprosy</td>\n",
       "      <td>8</td>\n",
       "      <td>0</td>\n",
       "      <td>Pallikaranai, Chennai</td>\n",
       "      <td>Dermatologists</td>\n",
       "      <td>NaN</td>\n",
       "      <td>Pallikaranai</td>\n",
       "      <td>Chennai</td>\n",
       "    </tr>\n",
       "  </tbody>\n",
       "</table>\n",
       "<p>7948 rows × 8 columns</p>\n",
       "</div>"
      ],
      "text/plain": [
       "                                       Qualification  Experience Rating  \\\n",
       "0                              BHMS, MD - Homeopathy          24      9   \n",
       "1                       BAMS, MD - Ayurveda Medicine          12      9   \n",
       "2                     MBBS, MS - Otorhinolaryngology           9      0   \n",
       "3                                BSc - Zoology, BAMS          12      0   \n",
       "4                                               BAMS          20      9   \n",
       "...                                              ...         ...    ...   \n",
       "1982                        BAMS, Doctor of Medicine          10      0   \n",
       "1983  MD - Dermatology , Venereology & Leprosy, MBBS           4      0   \n",
       "1984        MBBS, MD / MS - Obstetrics & Gynaecology           9      0   \n",
       "1985                                             BDS          12      9   \n",
       "1986  MBBS, MD - Dermatology , Venereology & Leprosy           8      0   \n",
       "\n",
       "                             Place           Profile   Fees  \\\n",
       "0              Kakkanad, Ernakulam         Homeopath  100.0   \n",
       "1            Whitefield, Bangalore          Ayurveda  350.0   \n",
       "2       Mathikere - BEL, Bangalore    ENT Specialist  300.0   \n",
       "3     Bannerghatta Road, Bangalore          Ayurveda  250.0   \n",
       "4            Keelkattalai, Chennai          Ayurveda  250.0   \n",
       "...                            ...               ...    ...   \n",
       "1982       Basavanagudi, Bangalore          Ayurveda    NaN   \n",
       "1983              Choolai, Chennai    Dermatologists    NaN   \n",
       "1984                Porur, Chennai  General Medicine    NaN   \n",
       "1985            Arekere, Bangalore           Dentist    NaN   \n",
       "1986         Pallikaranai, Chennai    Dermatologists    NaN   \n",
       "\n",
       "                Place_N        City  \n",
       "0              Kakkanad   Ernakulam  \n",
       "1            Whitefield   Bangalore  \n",
       "2       Mathikere - BEL   Bangalore  \n",
       "3     Bannerghatta Road   Bangalore  \n",
       "4          Keelkattalai     Chennai  \n",
       "...                 ...         ...  \n",
       "1982       Basavanagudi   Bangalore  \n",
       "1983            Choolai     Chennai  \n",
       "1984              Porur     Chennai  \n",
       "1985            Arekere   Bangalore  \n",
       "1986       Pallikaranai     Chennai  \n",
       "\n",
       "[7948 rows x 8 columns]"
      ]
     },
     "execution_count": 690,
     "metadata": {},
     "output_type": "execute_result"
    }
   ],
   "source": [
    "df_fees"
   ]
  },
  {
   "cell_type": "code",
   "execution_count": 691,
   "metadata": {},
   "outputs": [
    {
     "data": {
      "text/plain": [
       "BDS                                                                                                                                                  632\n",
       "BHMS                                                                                                                                                 627\n",
       "BAMS                                                                                                                                                 624\n",
       "MBBS                                                                                                                                                 441\n",
       "MBBS, MS - ENT                                                                                                                                       280\n",
       "                                                                                                                                                    ... \n",
       "Diploma in Family Medicine (DFM), Post Graduate Diploma in Clinical Research (PGDCR), Post Graduate Diploma in Healthcare Management(PGDHM), MBBS      1\n",
       "MRCPCH (UK), MBBS                                                                                                                                      1\n",
       "MBBS, MD - Dermatology , Venereology & Leprosy, Fellowship in Aesthetic Medicine, Diploma In Skin Aesthetics                                           1\n",
       "MBBS, MS - General Surgery, DNB, M.Ch                                                                                                                  1\n",
       "BHMS, PG - Homeo, MD - Alternate Medicine, Post Graduate Diploma in Clinical Research (PGDCR)                                                          1\n",
       "Name: Qualification, Length: 1801, dtype: int64"
      ]
     },
     "execution_count": 691,
     "metadata": {},
     "output_type": "execute_result"
    }
   ],
   "source": [
    "df_fees['Qualification'].value_counts()"
   ]
  },
  {
   "cell_type": "code",
   "execution_count": 692,
   "metadata": {},
   "outputs": [],
   "source": [
    "df_fees['Qualification']=df_fees['Qualification'].str.split(' ').str[0]"
   ]
  },
  {
   "cell_type": "code",
   "execution_count": 693,
   "metadata": {},
   "outputs": [
    {
     "data": {
      "text/plain": [
       "MBBS,        2872\n",
       "BDS,          947\n",
       "BDS           632\n",
       "BHMS          627\n",
       "BAMS          624\n",
       "             ... \n",
       "CGO,            1\n",
       "MBA             1\n",
       "GCEH            1\n",
       "Doctorate       1\n",
       "DEHM,           1\n",
       "Name: Qualification, Length: 97, dtype: int64"
      ]
     },
     "execution_count": 693,
     "metadata": {},
     "output_type": "execute_result"
    }
   ],
   "source": [
    "df_fees['Qualification'].value_counts()"
   ]
  },
  {
   "cell_type": "code",
   "execution_count": 694,
   "metadata": {},
   "outputs": [],
   "source": [
    "df_fees['Qualification']=df_fees['Qualification'].str.split(',').str[0]"
   ]
  },
  {
   "cell_type": "code",
   "execution_count": 695,
   "metadata": {},
   "outputs": [],
   "source": [
    "df_fees['Qualification']=df_fees['Qualification'].str.split('-').str[0]"
   ]
  },
  {
   "cell_type": "code",
   "execution_count": 696,
   "metadata": {},
   "outputs": [
    {
     "data": {
      "text/plain": [
       "MBBS         3313\n",
       "BDS          1579\n",
       "BAMS          939\n",
       "BHMS          938\n",
       "MD            420\n",
       "             ... \n",
       "PGD             1\n",
       "POST            1\n",
       "Diplomate       1\n",
       "FFDRCSI         1\n",
       "FICD            1\n",
       "Name: Qualification, Length: 80, dtype: int64"
      ]
     },
     "execution_count": 696,
     "metadata": {},
     "output_type": "execute_result"
    }
   ],
   "source": [
    "df_fees['Qualification'].value_counts()"
   ]
  },
  {
   "cell_type": "code",
   "execution_count": 697,
   "metadata": {},
   "outputs": [
    {
     "name": "stdout",
     "output_type": "stream",
     "text": [
      "MBBS         3313\n",
      "BDS          1579\n",
      "BAMS          939\n",
      "BHMS          938\n",
      "MD            420\n",
      "             ... \n",
      "PGD             1\n",
      "POST            1\n",
      "Diplomate       1\n",
      "FFDRCSI         1\n",
      "FICD            1\n",
      "Name: Qualification, Length: 80, dtype: int64\n",
      "9     419\n",
      "10    404\n",
      "8     380\n",
      "11    374\n",
      "12    358\n",
      "     ... \n",
      "60      1\n",
      "64      1\n",
      "58      1\n",
      "66      1\n",
      "61      1\n",
      "Name: Experience, Length: 64, dtype: int64\n",
      "0    4393\n",
      "9    2961\n",
      "8     388\n",
      "7     125\n",
      "6      46\n",
      "5      28\n",
      "3       4\n",
      "4       3\n",
      "2       0\n",
      "1       0\n",
      "Name: Rating, dtype: int64\n",
      "HSR Layout, Bangalore       97\n",
      "Andheri West, Mumbai        97\n",
      "Dwarka, Delhi               93\n",
      "Banjara Hills, Hyderabad    85\n",
      "Mulund West, Mumbai         81\n",
      "                            ..\n",
      "Beeramguda, Hyderabad        1\n",
      "Mount Road, Chennai          1\n",
      "Kalu Sarai, Delhi            1\n",
      "Chitlapakkam, Chennai        1\n",
      "Nand Nagri, Delhi            1\n",
      "Name: Place, Length: 949, dtype: int64\n",
      "Dentist             1838\n",
      "General Medicine    1617\n",
      "Dermatologists      1373\n",
      "Homeopath           1120\n",
      "Ayurveda            1037\n",
      "ENT Specialist       963\n",
      "Name: Profile, dtype: int64\n",
      "100.0    1306\n",
      "500.0     938\n",
      "200.0     904\n",
      "300.0     864\n",
      "400.0     424\n",
      "250.0     307\n",
      "150.0     253\n",
      "600.0     215\n",
      "700.0     153\n",
      "350.0     143\n",
      "800.0     143\n",
      "50.0       81\n",
      "450.0      65\n",
      "750.0      34\n",
      "550.0      22\n",
      "650.0      21\n",
      "900.0      18\n",
      "70.0       18\n",
      "80.0       12\n",
      "60.0       11\n",
      "30.0        4\n",
      "40.0        2\n",
      "130.0       2\n",
      "180.0       2\n",
      "10.0        2\n",
      "260.0       2\n",
      "380.0       2\n",
      "220.0       1\n",
      "430.0       1\n",
      "630.0       1\n",
      "299.0       1\n",
      "20.0        1\n",
      "280.0       1\n",
      "230.0       1\n",
      "5.0         1\n",
      "850.0       1\n",
      "950.0       1\n",
      "125.0       1\n",
      "920.0       1\n",
      "499.0       1\n",
      "Name: Fees, dtype: int64\n",
      "Andheri West     97\n",
      "HSR Layout       97\n",
      "Dwarka           94\n",
      "Banjara Hills    85\n",
      "Mulund West      81\n",
      "                 ..\n",
      "Thirumala         1\n",
      "Peroor            1\n",
      "Ramamangalam      1\n",
      "Madhavaram        1\n",
      "Piravom           1\n",
      "Name: Place_N, Length: 938, dtype: int64\n",
      " Bangalore             1678\n",
      " Mumbai                1608\n",
      " Delhi                 1602\n",
      " Hyderabad             1284\n",
      " Chennai               1142\n",
      " Coimbatore             298\n",
      " Ernakulam              201\n",
      " Thiruvananthapuram     103\n",
      "Not Known                31\n",
      "e                         1\n",
      "Name: City, dtype: int64\n"
     ]
    }
   ],
   "source": [
    "for i in df_fees:\n",
    "    print(df_fees[i].value_counts())"
   ]
  },
  {
   "cell_type": "code",
   "execution_count": 698,
   "metadata": {},
   "outputs": [],
   "source": [
    "df_fees['City']=df_fees['City'].replace('e','Not Known')"
   ]
  },
  {
   "cell_type": "code",
   "execution_count": 699,
   "metadata": {},
   "outputs": [
    {
     "name": "stdout",
     "output_type": "stream",
     "text": [
      "MBBS         3313\n",
      "BDS          1579\n",
      "BAMS          939\n",
      "BHMS          938\n",
      "MD            420\n",
      "             ... \n",
      "PGD             1\n",
      "POST            1\n",
      "Diplomate       1\n",
      "FFDRCSI         1\n",
      "FICD            1\n",
      "Name: Qualification, Length: 80, dtype: int64\n",
      "9     419\n",
      "10    404\n",
      "8     380\n",
      "11    374\n",
      "12    358\n",
      "     ... \n",
      "60      1\n",
      "64      1\n",
      "58      1\n",
      "66      1\n",
      "61      1\n",
      "Name: Experience, Length: 64, dtype: int64\n",
      "0    4393\n",
      "9    2961\n",
      "8     388\n",
      "7     125\n",
      "6      46\n",
      "5      28\n",
      "3       4\n",
      "4       3\n",
      "2       0\n",
      "1       0\n",
      "Name: Rating, dtype: int64\n",
      "HSR Layout, Bangalore       97\n",
      "Andheri West, Mumbai        97\n",
      "Dwarka, Delhi               93\n",
      "Banjara Hills, Hyderabad    85\n",
      "Mulund West, Mumbai         81\n",
      "                            ..\n",
      "Beeramguda, Hyderabad        1\n",
      "Mount Road, Chennai          1\n",
      "Kalu Sarai, Delhi            1\n",
      "Chitlapakkam, Chennai        1\n",
      "Nand Nagri, Delhi            1\n",
      "Name: Place, Length: 949, dtype: int64\n",
      "Dentist             1838\n",
      "General Medicine    1617\n",
      "Dermatologists      1373\n",
      "Homeopath           1120\n",
      "Ayurveda            1037\n",
      "ENT Specialist       963\n",
      "Name: Profile, dtype: int64\n",
      "100.0    1306\n",
      "500.0     938\n",
      "200.0     904\n",
      "300.0     864\n",
      "400.0     424\n",
      "250.0     307\n",
      "150.0     253\n",
      "600.0     215\n",
      "700.0     153\n",
      "350.0     143\n",
      "800.0     143\n",
      "50.0       81\n",
      "450.0      65\n",
      "750.0      34\n",
      "550.0      22\n",
      "650.0      21\n",
      "900.0      18\n",
      "70.0       18\n",
      "80.0       12\n",
      "60.0       11\n",
      "30.0        4\n",
      "40.0        2\n",
      "130.0       2\n",
      "180.0       2\n",
      "10.0        2\n",
      "260.0       2\n",
      "380.0       2\n",
      "220.0       1\n",
      "430.0       1\n",
      "630.0       1\n",
      "299.0       1\n",
      "20.0        1\n",
      "280.0       1\n",
      "230.0       1\n",
      "5.0         1\n",
      "850.0       1\n",
      "950.0       1\n",
      "125.0       1\n",
      "920.0       1\n",
      "499.0       1\n",
      "Name: Fees, dtype: int64\n",
      "Andheri West     97\n",
      "HSR Layout       97\n",
      "Dwarka           94\n",
      "Banjara Hills    85\n",
      "Mulund West      81\n",
      "                 ..\n",
      "Thirumala         1\n",
      "Peroor            1\n",
      "Ramamangalam      1\n",
      "Madhavaram        1\n",
      "Piravom           1\n",
      "Name: Place_N, Length: 938, dtype: int64\n",
      " Bangalore             1678\n",
      " Mumbai                1608\n",
      " Delhi                 1602\n",
      " Hyderabad             1284\n",
      " Chennai               1142\n",
      " Coimbatore             298\n",
      " Ernakulam              201\n",
      " Thiruvananthapuram     103\n",
      "Not Known                32\n",
      "Name: City, dtype: int64\n"
     ]
    }
   ],
   "source": [
    "for i in df_fees:\n",
    "    print(df_fees[i].value_counts())"
   ]
  },
  {
   "cell_type": "markdown",
   "metadata": {},
   "source": [
    "# Univariate Analysis"
   ]
  },
  {
   "cell_type": "code",
   "execution_count": 700,
   "metadata": {},
   "outputs": [
    {
     "data": {
      "image/png": "[encoded data removed]",
      "text/plain": [
       "<Figure size 1440x864 with 18 Axes>"
      ]
     },
     "metadata": {
      "needs_background": "light"
     },
     "output_type": "display_data"
    }
   ],
   "source": [
    "df_fees.hist(figsize = (20,12), layout=(6, 3), bins = 'auto')\n",
    "plt.tight_layout()\n",
    "plt.show()"
   ]
  },
  {
   "cell_type": "code",
   "execution_count": 701,
   "metadata": {},
   "outputs": [
    {
     "data": {
      "image/png": "[encoded data removed]",
      "text/plain": [
       "<Figure size 432x288 with 1 Axes>"
      ]
     },
     "metadata": {
      "needs_background": "light"
     },
     "output_type": "display_data"
    },
    {
     "data": {
      "image/png": "[encoded data removed]",
      "text/plain": [
       "<Figure size 432x288 with 1 Axes>"
      ]
     },
     "metadata": {
      "needs_background": "light"
     },
     "output_type": "display_data"
    }
   ],
   "source": [
    "for i in ['Experience','Rating'] :\n",
    "    plt.boxplot(df_fees[i])\n",
    "    plt.show()"
   ]
  },
  {
   "cell_type": "raw",
   "metadata": {},
   "source": [
    "# There are Outliers in Experience"
   ]
  },
  {
   "cell_type": "code",
   "execution_count": 702,
   "metadata": {},
   "outputs": [
    {
     "data": {
      "image/png": "[encoded data removed]",
      "text/plain": [
       "<Figure size 432x288 with 1 Axes>"
      ]
     },
     "metadata": {
      "needs_background": "light"
     },
     "output_type": "display_data"
    },
    {
     "data": {
      "image/png": "[encoded data removed]",
      "text/plain": [
       "<Figure size 432x288 with 1 Axes>"
      ]
     },
     "metadata": {
      "needs_background": "light"
     },
     "output_type": "display_data"
    },
    {
     "data": {
      "image/png": "[encoded data removed]",
      "text/plain": [
       "<Figure size 432x288 with 1 Axes>"
      ]
     },
     "metadata": {
      "needs_background": "light"
     },
     "output_type": "display_data"
    }
   ],
   "source": [
    "for i in ['Experience','Rating',\"Fees\"]:\n",
    "    sns.violinplot(x=i,data=df_fees)\n",
    "    plt.tight_layout()\n",
    "    plt.show()"
   ]
  },
  {
   "cell_type": "code",
   "execution_count": 703,
   "metadata": {},
   "outputs": [
    {
     "data": {
      "image/png": "[encoded data removed]",
      "text/plain": [
       "<Figure size 432x288 with 1 Axes>"
      ]
     },
     "metadata": {
      "needs_background": "light"
     },
     "output_type": "display_data"
    },
    {
     "data": {
      "image/png": "[encoded data removed]",
      "text/plain": [
       "<Figure size 432x288 with 1 Axes>"
      ]
     },
     "metadata": {
      "needs_background": "light"
     },
     "output_type": "display_data"
    },
    {
     "data": {
      "image/png": "[encoded data removed]",
      "text/plain": [
       "<Figure size 432x288 with 1 Axes>"
      ]
     },
     "metadata": {
      "needs_background": "light"
     },
     "output_type": "display_data"
    }
   ],
   "source": [
    "#Checking for the distribution of the data\n",
    "for i in ['Experience','Rating',\"Fees\"]:\n",
    "    sns.distplot(df_fees[i],bins='auto')\n",
    "    plt.tight_layout()\n",
    "    plt.show()"
   ]
  },
  {
   "cell_type": "markdown",
   "metadata": {},
   "source": [
    "# Bivariate Analysis"
   ]
  },
  {
   "cell_type": "code",
   "execution_count": 704,
   "metadata": {},
   "outputs": [
    {
     "data": {
      "text/plain": [
       "Index(['Qualification', 'Experience', 'Rating', 'Place', 'Profile', 'Fees',\n",
       "       'Place_N', 'City'],\n",
       "      dtype='object')"
      ]
     },
     "execution_count": 704,
     "metadata": {},
     "output_type": "execute_result"
    }
   ],
   "source": [
    "df_fees.columns"
   ]
  },
  {
   "cell_type": "code",
   "execution_count": 705,
   "metadata": {},
   "outputs": [],
   "source": [
    "df_fees.drop(['Place','Place_N'],axis=1,inplace=True)"
   ]
  },
  {
   "cell_type": "code",
   "execution_count": 706,
   "metadata": {},
   "outputs": [
    {
     "data": {
      "image/png": "[encoded data removed]",
      "text/plain": [
       "<Figure size 432x288 with 1 Axes>"
      ]
     },
     "metadata": {
      "needs_background": "light"
     },
     "output_type": "display_data"
    }
   ],
   "source": [
    "for i in ['Experience']:\n",
    "    sns.lineplot(df_fees['Fees'],df_fees[i])\n",
    "    plt.tight_layout()\n",
    "    plt.show()"
   ]
  },
  {
   "cell_type": "code",
   "execution_count": 707,
   "metadata": {},
   "outputs": [
    {
     "data": {
      "text/html": [
       "<div>\n",
       "<style scoped>\n",
       "    .dataframe tbody tr th:only-of-type {\n",
       "        vertical-align: middle;\n",
       "    }\n",
       "\n",
       "    .dataframe tbody tr th {\n",
       "        vertical-align: top;\n",
       "    }\n",
       "\n",
       "    .dataframe thead th {\n",
       "        text-align: right;\n",
       "    }\n",
       "</style>\n",
       "<table border=\"1\" class=\"dataframe\">\n",
       "  <thead>\n",
       "    <tr style=\"text-align: right;\">\n",
       "      <th></th>\n",
       "      <th>Qualification</th>\n",
       "      <th>Experience</th>\n",
       "      <th>Rating</th>\n",
       "      <th>Profile</th>\n",
       "      <th>Fees</th>\n",
       "      <th>City</th>\n",
       "    </tr>\n",
       "  </thead>\n",
       "  <tbody>\n",
       "    <tr>\n",
       "      <th>0</th>\n",
       "      <td>BHMS</td>\n",
       "      <td>24</td>\n",
       "      <td>9</td>\n",
       "      <td>Homeopath</td>\n",
       "      <td>100.0</td>\n",
       "      <td>Ernakulam</td>\n",
       "    </tr>\n",
       "    <tr>\n",
       "      <th>1</th>\n",
       "      <td>BAMS</td>\n",
       "      <td>12</td>\n",
       "      <td>9</td>\n",
       "      <td>Ayurveda</td>\n",
       "      <td>350.0</td>\n",
       "      <td>Bangalore</td>\n",
       "    </tr>\n",
       "    <tr>\n",
       "      <th>2</th>\n",
       "      <td>MBBS</td>\n",
       "      <td>9</td>\n",
       "      <td>0</td>\n",
       "      <td>ENT Specialist</td>\n",
       "      <td>300.0</td>\n",
       "      <td>Bangalore</td>\n",
       "    </tr>\n",
       "    <tr>\n",
       "      <th>3</th>\n",
       "      <td>BSc</td>\n",
       "      <td>12</td>\n",
       "      <td>0</td>\n",
       "      <td>Ayurveda</td>\n",
       "      <td>250.0</td>\n",
       "      <td>Bangalore</td>\n",
       "    </tr>\n",
       "    <tr>\n",
       "      <th>4</th>\n",
       "      <td>BAMS</td>\n",
       "      <td>20</td>\n",
       "      <td>9</td>\n",
       "      <td>Ayurveda</td>\n",
       "      <td>250.0</td>\n",
       "      <td>Chennai</td>\n",
       "    </tr>\n",
       "    <tr>\n",
       "      <th>...</th>\n",
       "      <td>...</td>\n",
       "      <td>...</td>\n",
       "      <td>...</td>\n",
       "      <td>...</td>\n",
       "      <td>...</td>\n",
       "      <td>...</td>\n",
       "    </tr>\n",
       "    <tr>\n",
       "      <th>1982</th>\n",
       "      <td>BAMS</td>\n",
       "      <td>10</td>\n",
       "      <td>0</td>\n",
       "      <td>Ayurveda</td>\n",
       "      <td>NaN</td>\n",
       "      <td>Bangalore</td>\n",
       "    </tr>\n",
       "    <tr>\n",
       "      <th>1983</th>\n",
       "      <td>MD</td>\n",
       "      <td>4</td>\n",
       "      <td>0</td>\n",
       "      <td>Dermatologists</td>\n",
       "      <td>NaN</td>\n",
       "      <td>Chennai</td>\n",
       "    </tr>\n",
       "    <tr>\n",
       "      <th>1984</th>\n",
       "      <td>MBBS</td>\n",
       "      <td>9</td>\n",
       "      <td>0</td>\n",
       "      <td>General Medicine</td>\n",
       "      <td>NaN</td>\n",
       "      <td>Chennai</td>\n",
       "    </tr>\n",
       "    <tr>\n",
       "      <th>1985</th>\n",
       "      <td>BDS</td>\n",
       "      <td>12</td>\n",
       "      <td>9</td>\n",
       "      <td>Dentist</td>\n",
       "      <td>NaN</td>\n",
       "      <td>Bangalore</td>\n",
       "    </tr>\n",
       "    <tr>\n",
       "      <th>1986</th>\n",
       "      <td>MBBS</td>\n",
       "      <td>8</td>\n",
       "      <td>0</td>\n",
       "      <td>Dermatologists</td>\n",
       "      <td>NaN</td>\n",
       "      <td>Chennai</td>\n",
       "    </tr>\n",
       "  </tbody>\n",
       "</table>\n",
       "<p>7948 rows × 6 columns</p>\n",
       "</div>"
      ],
      "text/plain": [
       "     Qualification  Experience Rating           Profile   Fees        City\n",
       "0             BHMS          24      9         Homeopath  100.0   Ernakulam\n",
       "1             BAMS          12      9          Ayurveda  350.0   Bangalore\n",
       "2             MBBS           9      0    ENT Specialist  300.0   Bangalore\n",
       "3              BSc          12      0          Ayurveda  250.0   Bangalore\n",
       "4             BAMS          20      9          Ayurveda  250.0     Chennai\n",
       "...            ...         ...    ...               ...    ...         ...\n",
       "1982          BAMS          10      0          Ayurveda    NaN   Bangalore\n",
       "1983            MD           4      0    Dermatologists    NaN     Chennai\n",
       "1984          MBBS           9      0  General Medicine    NaN     Chennai\n",
       "1985           BDS          12      9           Dentist    NaN   Bangalore\n",
       "1986          MBBS           8      0    Dermatologists    NaN     Chennai\n",
       "\n",
       "[7948 rows x 6 columns]"
      ]
     },
     "execution_count": 707,
     "metadata": {},
     "output_type": "execute_result"
    }
   ],
   "source": [
    "df_fees"
   ]
  },
  {
   "cell_type": "code",
   "execution_count": 708,
   "metadata": {},
   "outputs": [
    {
     "data": {
      "image/png": "[encoded data removed]",
      "text/plain": [
       "<Figure size 1440x432 with 1 Axes>"
      ]
     },
     "metadata": {
      "needs_background": "light"
     },
     "output_type": "display_data"
    },
    {
     "data": {
      "image/png": "[encoded data removed]",
      "text/plain": [
       "<Figure size 1440x432 with 1 Axes>"
      ]
     },
     "metadata": {
      "needs_background": "light"
     },
     "output_type": "display_data"
    },
    {
     "data": {
      "image/png": "[encoded data removed]",
      "text/plain": [
       "<Figure size 1440x432 with 1 Axes>"
      ]
     },
     "metadata": {
      "needs_background": "light"
     },
     "output_type": "display_data"
    },
    {
     "data": {
      "image/png": "[encoded data removed]",
      "text/plain": [
       "<Figure size 1440x432 with 1 Axes>"
      ]
     },
     "metadata": {
      "needs_background": "light"
     },
     "output_type": "display_data"
    },
    {
     "data": {
      "image/png": "[encoded data removed]",
      "text/plain": [
       "<Figure size 1440x432 with 1 Axes>"
      ]
     },
     "metadata": {
      "needs_background": "light"
     },
     "output_type": "display_data"
    },
    {
     "data": {
      "image/png": "[encoded data removed]",
      "text/plain": [
       "<Figure size 1440x432 with 1 Axes>"
      ]
     },
     "metadata": {
      "needs_background": "light"
     },
     "output_type": "display_data"
    }
   ],
   "source": [
    "for i in df_fees.columns:\n",
    "    plt.figure(figsize=(20,6))\n",
    "    plt.xticks(rotation=90)\n",
    "    sns.barplot(df_fees[i],df_fees['Fees'])\n",
    "    plt.tight_layout()\n",
    "    plt.show()"
   ]
  },
  {
   "cell_type": "code",
   "execution_count": 709,
   "metadata": {},
   "outputs": [
    {
     "data": {
      "text/html": [
       "<div>\n",
       "<style scoped>\n",
       "    .dataframe tbody tr th:only-of-type {\n",
       "        vertical-align: middle;\n",
       "    }\n",
       "\n",
       "    .dataframe tbody tr th {\n",
       "        vertical-align: top;\n",
       "    }\n",
       "\n",
       "    .dataframe thead th {\n",
       "        text-align: right;\n",
       "    }\n",
       "</style>\n",
       "<table border=\"1\" class=\"dataframe\">\n",
       "  <thead>\n",
       "    <tr style=\"text-align: right;\">\n",
       "      <th></th>\n",
       "      <th>Experience</th>\n",
       "      <th>Fees</th>\n",
       "    </tr>\n",
       "  </thead>\n",
       "  <tbody>\n",
       "    <tr>\n",
       "      <th>Experience</th>\n",
       "      <td>1.000000</td>\n",
       "      <td>0.002117</td>\n",
       "    </tr>\n",
       "    <tr>\n",
       "      <th>Fees</th>\n",
       "      <td>0.002117</td>\n",
       "      <td>1.000000</td>\n",
       "    </tr>\n",
       "  </tbody>\n",
       "</table>\n",
       "</div>"
      ],
      "text/plain": [
       "            Experience      Fees\n",
       "Experience    1.000000  0.002117\n",
       "Fees          0.002117  1.000000"
      ]
     },
     "execution_count": 709,
     "metadata": {},
     "output_type": "execute_result"
    }
   ],
   "source": [
    "#Checking the correlation between the attributes\n",
    "df_fees.corr()"
   ]
  },
  {
   "cell_type": "code",
   "execution_count": 710,
   "metadata": {},
   "outputs": [
    {
     "data": {
      "image/png": "[encoded data removed]",
      "text/plain": [
       "<Figure size 1800x864 with 2 Axes>"
      ]
     },
     "metadata": {
      "needs_background": "light"
     },
     "output_type": "display_data"
    }
   ],
   "source": [
    "plt.figure(figsize=(25,12))\n",
    "sns.heatmap(df_fees.corr(),cmap='coolwarm',annot=True)\n",
    "plt.show()"
   ]
  },
  {
   "cell_type": "code",
   "execution_count": 711,
   "metadata": {},
   "outputs": [
    {
     "data": {
      "text/plain": [
       "Experience    0.984224\n",
       "Rating        0.239818\n",
       "Fees          0.751870\n",
       "dtype: float64"
      ]
     },
     "execution_count": 711,
     "metadata": {},
     "output_type": "execute_result"
    }
   ],
   "source": [
    "#Cheking the skewness of data\n",
    "df_fees.skew()"
   ]
  },
  {
   "cell_type": "code",
   "execution_count": 712,
   "metadata": {},
   "outputs": [
    {
     "data": {
      "text/plain": [
       "Index(['Qualification', 'Experience', 'Rating', 'Profile', 'Fees', 'City'], dtype='object')"
      ]
     },
     "execution_count": 712,
     "metadata": {},
     "output_type": "execute_result"
    }
   ],
   "source": [
    "df_fees.columns"
   ]
  },
  {
   "cell_type": "code",
   "execution_count": 713,
   "metadata": {},
   "outputs": [],
   "source": [
    "#removing skewness using log transform\n",
    "for col in ['Experience','Fees']:\n",
    "    if df_fees.skew().loc[col]>0.55:\n",
    "        df_fees[col]=np.log1p(df_fees[col])"
   ]
  },
  {
   "cell_type": "code",
   "execution_count": 714,
   "metadata": {},
   "outputs": [
    {
     "data": {
      "text/plain": [
       "Experience   -0.910706\n",
       "Rating        0.239818\n",
       "Fees         -0.298173\n",
       "dtype: float64"
      ]
     },
     "execution_count": 714,
     "metadata": {},
     "output_type": "execute_result"
    }
   ],
   "source": [
    "df_fees.skew()\n",
    "#skewness is reduced"
   ]
  },
  {
   "cell_type": "code",
   "execution_count": 715,
   "metadata": {},
   "outputs": [],
   "source": [
    "df_fees=pd.get_dummies(df_fees,columns=[\"City\",\"Profile\"],prefix=[\"City\",\"Profile\"])"
   ]
  },
  {
   "cell_type": "code",
   "execution_count": 716,
   "metadata": {
    "scrolled": true
   },
   "outputs": [],
   "source": [
    "import sklearn\n",
    "from sklearn.preprocessing import LabelEncoder\n",
    "le=LabelEncoder()\n",
    "df_fees['Qualification']=le.fit_transform(df_fees['Qualification'])"
   ]
  },
  {
   "cell_type": "code",
   "execution_count": 717,
   "metadata": {},
   "outputs": [],
   "source": [
    "df_train=df_fees[0:5961]\n",
    "df_test=df_fees[5961:]"
   ]
  },
  {
   "cell_type": "code",
   "execution_count": 718,
   "metadata": {},
   "outputs": [],
   "source": [
    "df_fees=df_train"
   ]
  },
  {
   "cell_type": "code",
   "execution_count": 719,
   "metadata": {},
   "outputs": [
    {
     "data": {
      "text/html": [
       "<div>\n",
       "<style scoped>\n",
       "    .dataframe tbody tr th:only-of-type {\n",
       "        vertical-align: middle;\n",
       "    }\n",
       "\n",
       "    .dataframe tbody tr th {\n",
       "        vertical-align: top;\n",
       "    }\n",
       "\n",
       "    .dataframe thead th {\n",
       "        text-align: right;\n",
       "    }\n",
       "</style>\n",
       "<table border=\"1\" class=\"dataframe\">\n",
       "  <thead>\n",
       "    <tr style=\"text-align: right;\">\n",
       "      <th></th>\n",
       "      <th>Qualification</th>\n",
       "      <th>Experience</th>\n",
       "      <th>Rating</th>\n",
       "      <th>Fees</th>\n",
       "      <th>City_ Bangalore</th>\n",
       "      <th>City_ Chennai</th>\n",
       "      <th>City_ Coimbatore</th>\n",
       "      <th>City_ Delhi</th>\n",
       "      <th>City_ Ernakulam</th>\n",
       "      <th>City_ Hyderabad</th>\n",
       "      <th>City_ Mumbai</th>\n",
       "      <th>City_ Thiruvananthapuram</th>\n",
       "      <th>City_Not Known</th>\n",
       "      <th>Profile_Ayurveda</th>\n",
       "      <th>Profile_Dentist</th>\n",
       "      <th>Profile_Dermatologists</th>\n",
       "      <th>Profile_ENT Specialist</th>\n",
       "      <th>Profile_General Medicine</th>\n",
       "      <th>Profile_Homeopath</th>\n",
       "    </tr>\n",
       "  </thead>\n",
       "  <tbody>\n",
       "    <tr>\n",
       "      <th>0</th>\n",
       "      <td>8</td>\n",
       "      <td>3.218876</td>\n",
       "      <td>9</td>\n",
       "      <td>4.615121</td>\n",
       "      <td>0</td>\n",
       "      <td>0</td>\n",
       "      <td>0</td>\n",
       "      <td>0</td>\n",
       "      <td>1</td>\n",
       "      <td>0</td>\n",
       "      <td>0</td>\n",
       "      <td>0</td>\n",
       "      <td>0</td>\n",
       "      <td>0</td>\n",
       "      <td>0</td>\n",
       "      <td>0</td>\n",
       "      <td>0</td>\n",
       "      <td>0</td>\n",
       "      <td>1</td>\n",
       "    </tr>\n",
       "    <tr>\n",
       "      <th>1</th>\n",
       "      <td>5</td>\n",
       "      <td>2.564949</td>\n",
       "      <td>9</td>\n",
       "      <td>5.860786</td>\n",
       "      <td>1</td>\n",
       "      <td>0</td>\n",
       "      <td>0</td>\n",
       "      <td>0</td>\n",
       "      <td>0</td>\n",
       "      <td>0</td>\n",
       "      <td>0</td>\n",
       "      <td>0</td>\n",
       "      <td>0</td>\n",
       "      <td>1</td>\n",
       "      <td>0</td>\n",
       "      <td>0</td>\n",
       "      <td>0</td>\n",
       "      <td>0</td>\n",
       "      <td>0</td>\n",
       "    </tr>\n",
       "    <tr>\n",
       "      <th>2</th>\n",
       "      <td>60</td>\n",
       "      <td>2.302585</td>\n",
       "      <td>0</td>\n",
       "      <td>5.707110</td>\n",
       "      <td>1</td>\n",
       "      <td>0</td>\n",
       "      <td>0</td>\n",
       "      <td>0</td>\n",
       "      <td>0</td>\n",
       "      <td>0</td>\n",
       "      <td>0</td>\n",
       "      <td>0</td>\n",
       "      <td>0</td>\n",
       "      <td>0</td>\n",
       "      <td>0</td>\n",
       "      <td>0</td>\n",
       "      <td>1</td>\n",
       "      <td>0</td>\n",
       "      <td>0</td>\n",
       "    </tr>\n",
       "    <tr>\n",
       "      <th>3</th>\n",
       "      <td>12</td>\n",
       "      <td>2.564949</td>\n",
       "      <td>0</td>\n",
       "      <td>5.525453</td>\n",
       "      <td>1</td>\n",
       "      <td>0</td>\n",
       "      <td>0</td>\n",
       "      <td>0</td>\n",
       "      <td>0</td>\n",
       "      <td>0</td>\n",
       "      <td>0</td>\n",
       "      <td>0</td>\n",
       "      <td>0</td>\n",
       "      <td>1</td>\n",
       "      <td>0</td>\n",
       "      <td>0</td>\n",
       "      <td>0</td>\n",
       "      <td>0</td>\n",
       "      <td>0</td>\n",
       "    </tr>\n",
       "    <tr>\n",
       "      <th>4</th>\n",
       "      <td>5</td>\n",
       "      <td>3.044522</td>\n",
       "      <td>9</td>\n",
       "      <td>5.525453</td>\n",
       "      <td>0</td>\n",
       "      <td>1</td>\n",
       "      <td>0</td>\n",
       "      <td>0</td>\n",
       "      <td>0</td>\n",
       "      <td>0</td>\n",
       "      <td>0</td>\n",
       "      <td>0</td>\n",
       "      <td>0</td>\n",
       "      <td>1</td>\n",
       "      <td>0</td>\n",
       "      <td>0</td>\n",
       "      <td>0</td>\n",
       "      <td>0</td>\n",
       "      <td>0</td>\n",
       "    </tr>\n",
       "    <tr>\n",
       "      <th>...</th>\n",
       "      <td>...</td>\n",
       "      <td>...</td>\n",
       "      <td>...</td>\n",
       "      <td>...</td>\n",
       "      <td>...</td>\n",
       "      <td>...</td>\n",
       "      <td>...</td>\n",
       "      <td>...</td>\n",
       "      <td>...</td>\n",
       "      <td>...</td>\n",
       "      <td>...</td>\n",
       "      <td>...</td>\n",
       "      <td>...</td>\n",
       "      <td>...</td>\n",
       "      <td>...</td>\n",
       "      <td>...</td>\n",
       "      <td>...</td>\n",
       "      <td>...</td>\n",
       "      <td>...</td>\n",
       "    </tr>\n",
       "    <tr>\n",
       "      <th>5956</th>\n",
       "      <td>60</td>\n",
       "      <td>2.995732</td>\n",
       "      <td>9</td>\n",
       "      <td>5.707110</td>\n",
       "      <td>1</td>\n",
       "      <td>0</td>\n",
       "      <td>0</td>\n",
       "      <td>0</td>\n",
       "      <td>0</td>\n",
       "      <td>0</td>\n",
       "      <td>0</td>\n",
       "      <td>0</td>\n",
       "      <td>0</td>\n",
       "      <td>0</td>\n",
       "      <td>0</td>\n",
       "      <td>0</td>\n",
       "      <td>1</td>\n",
       "      <td>0</td>\n",
       "      <td>0</td>\n",
       "    </tr>\n",
       "    <tr>\n",
       "      <th>5957</th>\n",
       "      <td>60</td>\n",
       "      <td>3.526361</td>\n",
       "      <td>0</td>\n",
       "      <td>4.615121</td>\n",
       "      <td>0</td>\n",
       "      <td>1</td>\n",
       "      <td>0</td>\n",
       "      <td>0</td>\n",
       "      <td>0</td>\n",
       "      <td>0</td>\n",
       "      <td>0</td>\n",
       "      <td>0</td>\n",
       "      <td>0</td>\n",
       "      <td>0</td>\n",
       "      <td>0</td>\n",
       "      <td>0</td>\n",
       "      <td>0</td>\n",
       "      <td>1</td>\n",
       "      <td>0</td>\n",
       "    </tr>\n",
       "    <tr>\n",
       "      <th>5958</th>\n",
       "      <td>60</td>\n",
       "      <td>3.737670</td>\n",
       "      <td>9</td>\n",
       "      <td>6.398595</td>\n",
       "      <td>0</td>\n",
       "      <td>0</td>\n",
       "      <td>0</td>\n",
       "      <td>1</td>\n",
       "      <td>0</td>\n",
       "      <td>0</td>\n",
       "      <td>0</td>\n",
       "      <td>0</td>\n",
       "      <td>0</td>\n",
       "      <td>0</td>\n",
       "      <td>0</td>\n",
       "      <td>0</td>\n",
       "      <td>0</td>\n",
       "      <td>1</td>\n",
       "      <td>0</td>\n",
       "    </tr>\n",
       "    <tr>\n",
       "      <th>5959</th>\n",
       "      <td>60</td>\n",
       "      <td>2.772589</td>\n",
       "      <td>8</td>\n",
       "      <td>4.615121</td>\n",
       "      <td>0</td>\n",
       "      <td>0</td>\n",
       "      <td>0</td>\n",
       "      <td>0</td>\n",
       "      <td>0</td>\n",
       "      <td>0</td>\n",
       "      <td>1</td>\n",
       "      <td>0</td>\n",
       "      <td>0</td>\n",
       "      <td>0</td>\n",
       "      <td>0</td>\n",
       "      <td>0</td>\n",
       "      <td>0</td>\n",
       "      <td>1</td>\n",
       "      <td>0</td>\n",
       "    </tr>\n",
       "    <tr>\n",
       "      <th>5960</th>\n",
       "      <td>6</td>\n",
       "      <td>2.890372</td>\n",
       "      <td>9</td>\n",
       "      <td>5.303305</td>\n",
       "      <td>0</td>\n",
       "      <td>0</td>\n",
       "      <td>0</td>\n",
       "      <td>1</td>\n",
       "      <td>0</td>\n",
       "      <td>0</td>\n",
       "      <td>0</td>\n",
       "      <td>0</td>\n",
       "      <td>0</td>\n",
       "      <td>0</td>\n",
       "      <td>1</td>\n",
       "      <td>0</td>\n",
       "      <td>0</td>\n",
       "      <td>0</td>\n",
       "      <td>0</td>\n",
       "    </tr>\n",
       "  </tbody>\n",
       "</table>\n",
       "<p>5961 rows × 19 columns</p>\n",
       "</div>"
      ],
      "text/plain": [
       "      Qualification  Experience Rating      Fees  City_ Bangalore  \\\n",
       "0                 8    3.218876      9  4.615121                0   \n",
       "1                 5    2.564949      9  5.860786                1   \n",
       "2                60    2.302585      0  5.707110                1   \n",
       "3                12    2.564949      0  5.525453                1   \n",
       "4                 5    3.044522      9  5.525453                0   \n",
       "...             ...         ...    ...       ...              ...   \n",
       "5956             60    2.995732      9  5.707110                1   \n",
       "5957             60    3.526361      0  4.615121                0   \n",
       "5958             60    3.737670      9  6.398595                0   \n",
       "5959             60    2.772589      8  4.615121                0   \n",
       "5960              6    2.890372      9  5.303305                0   \n",
       "\n",
       "      City_ Chennai  City_ Coimbatore  City_ Delhi  City_ Ernakulam  \\\n",
       "0                 0                 0            0                1   \n",
       "1                 0                 0            0                0   \n",
       "2                 0                 0            0                0   \n",
       "3                 0                 0            0                0   \n",
       "4                 1                 0            0                0   \n",
       "...             ...               ...          ...              ...   \n",
       "5956              0                 0            0                0   \n",
       "5957              1                 0            0                0   \n",
       "5958              0                 0            1                0   \n",
       "5959              0                 0            0                0   \n",
       "5960              0                 0            1                0   \n",
       "\n",
       "      City_ Hyderabad  City_ Mumbai  City_ Thiruvananthapuram  City_Not Known  \\\n",
       "0                   0             0                         0               0   \n",
       "1                   0             0                         0               0   \n",
       "2                   0             0                         0               0   \n",
       "3                   0             0                         0               0   \n",
       "4                   0             0                         0               0   \n",
       "...               ...           ...                       ...             ...   \n",
       "5956                0             0                         0               0   \n",
       "5957                0             0                         0               0   \n",
       "5958                0             0                         0               0   \n",
       "5959                0             1                         0               0   \n",
       "5960                0             0                         0               0   \n",
       "\n",
       "      Profile_Ayurveda  Profile_Dentist  Profile_Dermatologists  \\\n",
       "0                    0                0                       0   \n",
       "1                    1                0                       0   \n",
       "2                    0                0                       0   \n",
       "3                    1                0                       0   \n",
       "4                    1                0                       0   \n",
       "...                ...              ...                     ...   \n",
       "5956                 0                0                       0   \n",
       "5957                 0                0                       0   \n",
       "5958                 0                0                       0   \n",
       "5959                 0                0                       0   \n",
       "5960                 0                1                       0   \n",
       "\n",
       "      Profile_ENT Specialist  Profile_General Medicine  Profile_Homeopath  \n",
       "0                          0                         0                  1  \n",
       "1                          0                         0                  0  \n",
       "2                          1                         0                  0  \n",
       "3                          0                         0                  0  \n",
       "4                          0                         0                  0  \n",
       "...                      ...                       ...                ...  \n",
       "5956                       1                         0                  0  \n",
       "5957                       0                         1                  0  \n",
       "5958                       0                         1                  0  \n",
       "5959                       0                         1                  0  \n",
       "5960                       0                         0                  0  \n",
       "\n",
       "[5961 rows x 19 columns]"
      ]
     },
     "execution_count": 719,
     "metadata": {},
     "output_type": "execute_result"
    }
   ],
   "source": [
    "df_fees"
   ]
  },
  {
   "cell_type": "code",
   "execution_count": 720,
   "metadata": {},
   "outputs": [
    {
     "name": "stdout",
     "output_type": "stream",
     "text": [
      "[[0.74459804 1.33145457]\n",
      " [0.20043453 0.4975396 ]\n",
      " [0.57959456 0.27189926]\n",
      " ...\n",
      " [1.49434141 1.28719688]\n",
      " [0.09963891 1.33145457]\n",
      " [0.26985499 0.3210027 ]]\n",
      "(array([  91,  168,  380,  383,  409,  502,  599,  602,  605,  616,  640,\n",
      "        724,  870,  945,  973,  975, 1002, 1083, 1122, 1142, 1175, 1210,\n",
      "       1254, 1316, 1379, 1470, 1553, 1560, 1605, 1659, 1727, 1743, 1869,\n",
      "       1879, 1910, 1930, 2078, 2091, 2178, 2283, 2328, 2563, 2637, 2641,\n",
      "       2682, 2714, 2773, 2850, 2968, 3090, 3099, 3125, 3177, 3228, 3303,\n",
      "       3344, 3418, 3443, 3468, 3499, 3502, 3720, 3744, 3804, 3896, 3963,\n",
      "       4004, 4012, 4067, 4239, 4248, 4282, 4290, 4295, 4338, 4391, 4427,\n",
      "       4546, 4748, 4758, 4847, 4948, 5058, 5095, 5171, 5187, 5267, 5271,\n",
      "       5527, 5533, 5551, 5703, 5723, 5821, 5930], dtype=int64), array([0, 0, 0, 0, 0, 0, 0, 0, 0, 0, 0, 0, 0, 0, 0, 0, 0, 0, 0, 0, 0, 0,\n",
      "       0, 1, 0, 0, 0, 0, 0, 0, 0, 0, 0, 0, 0, 1, 0, 0, 0, 0, 0, 1, 0, 0,\n",
      "       0, 0, 0, 0, 0, 0, 0, 0, 0, 0, 1, 0, 0, 0, 0, 1, 0, 0, 0, 0, 0, 0,\n",
      "       0, 0, 0, 0, 0, 0, 1, 0, 0, 0, 0, 0, 1, 0, 0, 0, 0, 0, 0, 0, 0, 0,\n",
      "       0, 0, 0, 1, 0, 0, 0], dtype=int64))\n"
     ]
    }
   ],
   "source": [
    "#removing outliers using zscore\n",
    "from scipy.stats import zscore\n",
    "zscore=np.abs(zscore(df_fees[['Experience','Fees']]))\n",
    "print(zscore)\n",
    "print(np.where(zscore>3))\n",
    "df_fees_new=df_fees[(zscore<3).all(axis=1)]"
   ]
  },
  {
   "cell_type": "code",
   "execution_count": 721,
   "metadata": {},
   "outputs": [
    {
     "name": "stdout",
     "output_type": "stream",
     "text": [
      "Before removing outliers: (5961, 19)\n",
      "After removing outliers: (5866, 19)\n"
     ]
    }
   ],
   "source": [
    "print('Before removing outliers:',df_fees.shape)\n",
    "print('After removing outliers:',df_fees_new.shape)"
   ]
  },
  {
   "cell_type": "code",
   "execution_count": 723,
   "metadata": {},
   "outputs": [],
   "source": [
    "#separating into input and output variables\n",
    "df_x=df_fees_new.drop(columns=['Fees'])\n",
    "y=pd.DataFrame(df_fees_new['Fees'])"
   ]
  },
  {
   "cell_type": "code",
   "execution_count": 724,
   "metadata": {},
   "outputs": [],
   "source": [
    "from sklearn.preprocessing import StandardScaler\n",
    "sc=StandardScaler()\n",
    "x=sc.fit_transform(df_x)\n",
    "x=pd.DataFrame(x,columns=df_x.columns)"
   ]
  },
  {
   "cell_type": "code",
   "execution_count": 725,
   "metadata": {},
   "outputs": [
    {
     "data": {
      "text/plain": [
       "(5866, 18)"
      ]
     },
     "execution_count": 725,
     "metadata": {},
     "output_type": "execute_result"
    }
   ],
   "source": [
    "x.shape"
   ]
  },
  {
   "cell_type": "code",
   "execution_count": 726,
   "metadata": {},
   "outputs": [
    {
     "data": {
      "text/plain": [
       "(5866, 1)"
      ]
     },
     "execution_count": 726,
     "metadata": {},
     "output_type": "execute_result"
    }
   ],
   "source": [
    "y.shape"
   ]
  },
  {
   "cell_type": "code",
   "execution_count": 727,
   "metadata": {},
   "outputs": [],
   "source": [
    "from sklearn.metrics import mean_absolute_error,mean_squared_error,r2_score\n",
    "from sklearn.model_selection import train_test_split\n",
    "def maxr2_score(regr,x,y):\n",
    "    max_r_score=0\n",
    "    for r_state in range(42,100):\n",
    "        x_train,x_test,y_train,y_test=train_test_split(x,y,random_state=r_state,test_size=0.20)\n",
    "        regr.fit(x_train,y_train)\n",
    "        y_pred=regr.predict(x_test)\n",
    "        r2_scr=r2_score(y_test,y_pred)\n",
    "        print(\"r2 score corresponding to\",r_state,\"is\",r2_scr)\n",
    "        if r2_scr>max_r_score:\n",
    "            max_r_score=r2_scr\n",
    "            final_r_state=r_state\n",
    "    print(\"max r2 score corresponding to\",final_r_state,\"is\",max_r_score)    \n",
    "    return final_r_state"
   ]
  },
  {
   "cell_type": "code",
   "execution_count": 728,
   "metadata": {},
   "outputs": [
    {
     "name": "stdout",
     "output_type": "stream",
     "text": [
      "r2 score corresponding to 42 is 0.167569513090284\n",
      "r2 score corresponding to 43 is 0.17274946220396814\n",
      "r2 score corresponding to 44 is 0.14575087895148342\n",
      "r2 score corresponding to 45 is 0.15609276688280904\n",
      "r2 score corresponding to 46 is 0.175067673642754\n",
      "r2 score corresponding to 47 is 0.15162763697489445\n",
      "r2 score corresponding to 48 is 0.2021999954192727\n",
      "r2 score corresponding to 49 is 0.14844592507813092\n",
      "r2 score corresponding to 50 is 0.1526040918403574\n",
      "r2 score corresponding to 51 is 0.20015096031083313\n",
      "r2 score corresponding to 52 is 0.1626443383582904\n",
      "r2 score corresponding to 53 is 0.1516275702625285\n",
      "r2 score corresponding to 54 is 0.18804071572435654\n",
      "r2 score corresponding to 55 is 0.13343604590080138\n",
      "r2 score corresponding to 56 is 0.1776023944637617\n",
      "r2 score corresponding to 57 is 0.1436006016466086\n",
      "r2 score corresponding to 58 is 0.19608047309730803\n",
      "r2 score corresponding to 59 is 0.17755443486365607\n",
      "r2 score corresponding to 60 is 0.17899275909300982\n",
      "r2 score corresponding to 61 is 0.15720839488273042\n",
      "r2 score corresponding to 62 is 0.17898517894900856\n",
      "r2 score corresponding to 63 is 0.17786142669454674\n",
      "r2 score corresponding to 64 is 0.17660560326324393\n",
      "r2 score corresponding to 65 is 0.17792299268092315\n",
      "r2 score corresponding to 66 is 0.1656177079538783\n",
      "r2 score corresponding to 67 is 0.17163650754621174\n",
      "r2 score corresponding to 68 is 0.14340290239350428\n",
      "r2 score corresponding to 69 is 0.12966075518687314\n",
      "r2 score corresponding to 70 is 0.14924749444826357\n",
      "r2 score corresponding to 71 is -6.818319829566304e+24\n",
      "r2 score corresponding to 72 is 0.16829247501654487\n",
      "r2 score corresponding to 73 is 0.16078718526737112\n",
      "r2 score corresponding to 74 is 0.14161845577779175\n",
      "r2 score corresponding to 75 is 0.17257438845193673\n",
      "r2 score corresponding to 76 is 0.14745031912444184\n",
      "r2 score corresponding to 77 is 0.14738454571223192\n",
      "r2 score corresponding to 78 is 0.15336136722519889\n",
      "r2 score corresponding to 79 is 0.15397237440764033\n",
      "r2 score corresponding to 80 is 0.17026656239910276\n",
      "r2 score corresponding to 81 is 0.16135108773372442\n",
      "r2 score corresponding to 82 is 0.17756829730662826\n",
      "r2 score corresponding to 83 is 0.1579958613741157\n",
      "r2 score corresponding to 84 is 0.15666618913571595\n",
      "r2 score corresponding to 85 is 0.1533432014604671\n",
      "r2 score corresponding to 86 is 0.1525696403452882\n",
      "r2 score corresponding to 87 is 0.18374405719105402\n",
      "r2 score corresponding to 88 is 0.1253079969526789\n",
      "r2 score corresponding to 89 is 0.15685051994980315\n",
      "r2 score corresponding to 90 is 0.16269951487273693\n",
      "r2 score corresponding to 91 is 0.18106387201154406\n",
      "r2 score corresponding to 92 is 0.13748395602986818\n",
      "r2 score corresponding to 93 is 0.15826311978363738\n",
      "r2 score corresponding to 94 is 0.13835891836560155\n",
      "r2 score corresponding to 95 is 0.12960539570276375\n",
      "r2 score corresponding to 96 is 0.13404345530150652\n",
      "r2 score corresponding to 97 is 0.15309403307810288\n",
      "r2 score corresponding to 98 is 0.15053107495161677\n",
      "r2 score corresponding to 99 is 0.15386409897368636\n",
      "max r2 score corresponding to 48 is 0.2021999954192727\n"
     ]
    }
   ],
   "source": [
    "#Using LinearRegression and checking maxr2 score corresponding to different random states\n",
    "from sklearn.linear_model import LinearRegression\n",
    "lreg=LinearRegression()\n",
    "r_state=maxr2_score(lreg,x,y)"
   ]
  },
  {
   "cell_type": "code",
   "execution_count": 729,
   "metadata": {},
   "outputs": [
    {
     "name": "stdout",
     "output_type": "stream",
     "text": [
      "Mean r2 score for Linear Regression: 0.1588764778814678\n",
      "Standard Deviation in r2 score for Linear Regression: 0.017824157614450005\n"
     ]
    }
   ],
   "source": [
    "#checking the mean r2 score of both Linear Regression Model \n",
    "from sklearn.model_selection import cross_val_score\n",
    "print('Mean r2 score for Linear Regression:',cross_val_score(LR,x,y,cv=5,scoring='r2').mean())\n",
    "print('Standard Deviation in r2 score for Linear Regression:',cross_val_score(LR,x,y,cv=5,scoring='r2').std())"
   ]
  },
  {
   "cell_type": "code",
   "execution_count": 730,
   "metadata": {},
   "outputs": [
    {
     "data": {
      "text/plain": [
       "{'n_neighbors': 25}"
      ]
     },
     "execution_count": 730,
     "metadata": {},
     "output_type": "execute_result"
    }
   ],
   "source": [
    "from sklearn.model_selection import GridSearchCV\n",
    "from sklearn.neighbors import KNeighborsRegressor\n",
    "neighbors={'n_neighbors':range(1,26)}\n",
    "knr=KNeighborsRegressor()\n",
    "gknr=GridSearchCV(knr,neighbors,cv=10)\n",
    "gknr.fit(x,y)\n",
    "gknr.best_params_"
   ]
  },
  {
   "cell_type": "code",
   "execution_count": 731,
   "metadata": {},
   "outputs": [
    {
     "name": "stdout",
     "output_type": "stream",
     "text": [
      "r2 score corresponding to 42 is 0.18085499225007962\n",
      "r2 score corresponding to 43 is 0.17224347915272942\n",
      "r2 score corresponding to 44 is 0.17536348579802685\n",
      "r2 score corresponding to 45 is 0.16203122095966627\n",
      "r2 score corresponding to 46 is 0.18217162386575458\n",
      "r2 score corresponding to 47 is 0.17671305237620571\n",
      "r2 score corresponding to 48 is 0.21183819401632675\n",
      "r2 score corresponding to 49 is 0.16281846478348305\n",
      "r2 score corresponding to 50 is 0.16632032829827892\n",
      "r2 score corresponding to 51 is 0.19501723652370784\n",
      "r2 score corresponding to 52 is 0.1801543348210234\n",
      "r2 score corresponding to 53 is 0.16126759970014037\n",
      "r2 score corresponding to 54 is 0.18151443050566818\n",
      "r2 score corresponding to 55 is 0.13716205501310386\n",
      "r2 score corresponding to 56 is 0.1672059943444565\n",
      "r2 score corresponding to 57 is 0.14837424355481676\n",
      "r2 score corresponding to 58 is 0.20427366853086526\n",
      "r2 score corresponding to 59 is 0.1986276058283698\n",
      "r2 score corresponding to 60 is 0.18596892982725632\n",
      "r2 score corresponding to 61 is 0.16832984139551266\n",
      "r2 score corresponding to 62 is 0.21187687423493407\n",
      "r2 score corresponding to 63 is 0.17901373306859547\n",
      "r2 score corresponding to 64 is 0.1906593437743399\n",
      "r2 score corresponding to 65 is 0.18669259256053627\n",
      "r2 score corresponding to 66 is 0.17666356567751795\n",
      "r2 score corresponding to 67 is 0.1780675115463597\n",
      "r2 score corresponding to 68 is 0.14365644381704734\n",
      "r2 score corresponding to 69 is 0.1474902309901277\n",
      "r2 score corresponding to 70 is 0.15417935659192306\n",
      "r2 score corresponding to 71 is 0.12899760239081837\n",
      "r2 score corresponding to 72 is 0.174952622760168\n",
      "r2 score corresponding to 73 is 0.16318559678022304\n",
      "r2 score corresponding to 74 is 0.15283865610463365\n",
      "r2 score corresponding to 75 is 0.1865834501207636\n",
      "r2 score corresponding to 76 is 0.13500096321434973\n",
      "r2 score corresponding to 77 is 0.17991251969131994\n",
      "r2 score corresponding to 78 is 0.1937781526137332\n",
      "r2 score corresponding to 79 is 0.15968854714089742\n",
      "r2 score corresponding to 80 is 0.18195831228839676\n",
      "r2 score corresponding to 81 is 0.15924329469450915\n",
      "r2 score corresponding to 82 is 0.17724759143820024\n",
      "r2 score corresponding to 83 is 0.17530323793121838\n",
      "r2 score corresponding to 84 is 0.17275226224532347\n",
      "r2 score corresponding to 85 is 0.14894203596011157\n",
      "r2 score corresponding to 86 is 0.13603686836738338\n",
      "r2 score corresponding to 87 is 0.1728662911823554\n",
      "r2 score corresponding to 88 is 0.13315506981534642\n",
      "r2 score corresponding to 89 is 0.18222790367297792\n",
      "r2 score corresponding to 90 is 0.1586057566865886\n",
      "r2 score corresponding to 91 is 0.19022188947129948\n",
      "r2 score corresponding to 92 is 0.13369688750912412\n",
      "r2 score corresponding to 93 is 0.1658282166713987\n",
      "r2 score corresponding to 94 is 0.17213287731122784\n",
      "r2 score corresponding to 95 is 0.1392308133907234\n",
      "r2 score corresponding to 96 is 0.15546959338319188\n",
      "r2 score corresponding to 97 is 0.18294014170854955\n",
      "r2 score corresponding to 98 is 0.14428327545697817\n",
      "r2 score corresponding to 99 is 0.1631508367920841\n",
      "max r2 score corresponding to 62 is 0.21187687423493407\n"
     ]
    }
   ],
   "source": [
    "#using KNN regression and checking max r2 score corresponding to different random states\n",
    "knr=KNeighborsRegressor(n_neighbors=25)\n",
    "r_state=maxr2_score(knr,x,y)"
   ]
  },
  {
   "cell_type": "code",
   "execution_count": 732,
   "metadata": {},
   "outputs": [
    {
     "data": {
      "text/plain": [
       "{'learning_rate': 0.1, 'n_estimators': 100}"
      ]
     },
     "execution_count": 732,
     "metadata": {},
     "output_type": "execute_result"
    }
   ],
   "source": [
    "#Trying to use Gradient Boosting Technique\n",
    "#For getting best set of parameters, using GridSearchCV\n",
    "from sklearn.ensemble import GradientBoostingRegressor\n",
    "gbr=GradientBoostingRegressor()\n",
    "parameters={'learning_rate':[0.0001,0.001,0.01,0.1,1],'n_estimators':[50,100,150,200,250,300,350,400,450,500]}\n",
    "clf=GridSearchCV(gbr,parameters,cv=5)\n",
    "clf.fit(x,y)\n",
    "clf.best_params_"
   ]
  },
  {
   "cell_type": "code",
   "execution_count": 738,
   "metadata": {},
   "outputs": [
    {
     "name": "stdout",
     "output_type": "stream",
     "text": [
      "Mean r2 score for Gradient Boosting Regression: 0.19137614635132066\n",
      "Standard Deviation in r2 score for Gradient Boosting Regression: 0.014261915147645018\n"
     ]
    }
   ],
   "source": [
    "#Using cross val score to check the mean r2 score and standard deviation\n",
    "from sklearn.model_selection import cross_val_score\n",
    "gbr=GradientBoostingRegressor(learning_rate=0.1,n_estimators=100)\n",
    "print(\"Mean r2 score for Gradient Boosting Regression:\",cross_val_score(gbr,x,y,cv=5,scoring='r2').mean())\n",
    "print('Standard Deviation in r2 score for Gradient Boosting Regression:',cross_val_score(gbr,x,y,cv=5,scoring='r2').std())"
   ]
  },
  {
   "cell_type": "code",
   "execution_count": 739,
   "metadata": {},
   "outputs": [
    {
     "name": "stdout",
     "output_type": "stream",
     "text": [
      "r2 score corresponding to 42 is 0.19308944436155917\n",
      "r2 score corresponding to 43 is 0.18157178461805012\n",
      "r2 score corresponding to 44 is 0.18012548674686868\n",
      "r2 score corresponding to 45 is 0.18140509747671418\n",
      "r2 score corresponding to 46 is 0.21114857382925767\n",
      "r2 score corresponding to 47 is 0.184781157979913\n",
      "r2 score corresponding to 48 is 0.22470812255957084\n",
      "r2 score corresponding to 49 is 0.1728146582362925\n",
      "r2 score corresponding to 50 is 0.1855370236369176\n",
      "r2 score corresponding to 51 is 0.19409063055042963\n",
      "r2 score corresponding to 52 is 0.2064395169787111\n",
      "r2 score corresponding to 53 is 0.1722335282598425\n",
      "r2 score corresponding to 54 is 0.20180811800862464\n",
      "r2 score corresponding to 55 is 0.15296725771433606\n",
      "r2 score corresponding to 56 is 0.1871841391560899\n",
      "r2 score corresponding to 57 is 0.17535525720743073\n",
      "r2 score corresponding to 58 is 0.20726361791919679\n",
      "r2 score corresponding to 59 is 0.20175276494968775\n",
      "r2 score corresponding to 60 is 0.2156320682050229\n",
      "r2 score corresponding to 61 is 0.18524409027706035\n",
      "r2 score corresponding to 62 is 0.21992164358069388\n",
      "r2 score corresponding to 63 is 0.20755122969091588\n",
      "r2 score corresponding to 64 is 0.20819334390812638\n",
      "r2 score corresponding to 65 is 0.20381816487848392\n",
      "r2 score corresponding to 66 is 0.195524140936433\n",
      "r2 score corresponding to 67 is 0.20695023716132877\n",
      "r2 score corresponding to 68 is 0.1711344613495147\n",
      "r2 score corresponding to 69 is 0.16997170217132962\n",
      "r2 score corresponding to 70 is 0.17014868961148644\n",
      "r2 score corresponding to 71 is 0.17698002234035148\n",
      "r2 score corresponding to 72 is 0.2011991900300072\n",
      "r2 score corresponding to 73 is 0.18959988154286955\n",
      "r2 score corresponding to 74 is 0.17476170364988008\n",
      "r2 score corresponding to 75 is 0.20742744787953293\n",
      "r2 score corresponding to 76 is 0.16766761981030798\n",
      "r2 score corresponding to 77 is 0.18325819120815068\n",
      "r2 score corresponding to 78 is 0.19658550915967554\n",
      "r2 score corresponding to 79 is 0.19388120465037406\n",
      "r2 score corresponding to 80 is 0.20551509624302222\n",
      "r2 score corresponding to 81 is 0.19111717962566388\n",
      "r2 score corresponding to 82 is 0.19553194792778883\n",
      "r2 score corresponding to 83 is 0.19659274177617458\n",
      "r2 score corresponding to 84 is 0.18383815805773718\n",
      "r2 score corresponding to 85 is 0.1691616356524992\n",
      "r2 score corresponding to 86 is 0.16759090960328904\n",
      "r2 score corresponding to 87 is 0.20640504500892665\n",
      "r2 score corresponding to 88 is 0.16332303370762036\n",
      "r2 score corresponding to 89 is 0.20597552102847083\n",
      "r2 score corresponding to 90 is 0.19059042427841566\n",
      "r2 score corresponding to 91 is 0.2042884245709693\n",
      "r2 score corresponding to 92 is 0.16859389474761444\n",
      "r2 score corresponding to 93 is 0.19567662361249438\n",
      "r2 score corresponding to 94 is 0.1882620643891858\n",
      "r2 score corresponding to 95 is 0.1647840309312526\n",
      "r2 score corresponding to 96 is 0.16433718626815264\n",
      "r2 score corresponding to 97 is 0.19641422064098246\n",
      "r2 score corresponding to 98 is 0.19111399225905856\n",
      "r2 score corresponding to 99 is 0.19002416191399185\n",
      "max r2 score corresponding to 48 is 0.22470812255957084\n"
     ]
    }
   ],
   "source": [
    "#checking maximum r2 score corresponding to Gradient Boost\n",
    "r_state=maxr2_score(gbr,x,y)"
   ]
  },
  {
   "cell_type": "code",
   "execution_count": 735,
   "metadata": {},
   "outputs": [
    {
     "data": {
      "text/plain": [
       "{'base_estimator': LinearRegression(copy_X=True, fit_intercept=True, n_jobs=None, normalize=False),\n",
       " 'learning_rate': 0.001,\n",
       " 'n_estimators': 500}"
      ]
     },
     "execution_count": 735,
     "metadata": {},
     "output_type": "execute_result"
    }
   ],
   "source": [
    "#Using Ada Boost regression algorithm\n",
    "from sklearn.ensemble import AdaBoostRegressor\n",
    "from sklearn.tree import DecisionTreeRegressor\n",
    "ada_reg=AdaBoostRegressor()\n",
    "parameters={'learning_rate':[0.0001,0.001,0.01,0.1,1],'n_estimators':[50,100,150,200,250,300,350,400,450,500],'base_estimator':[lreg,DecisionTreeRegressor()]}\n",
    "clf=GridSearchCV(ada_reg,parameters,cv=5)\n",
    "clf.fit(x,y)\n",
    "clf.best_params_"
   ]
  },
  {
   "cell_type": "code",
   "execution_count": 740,
   "metadata": {},
   "outputs": [
    {
     "name": "stdout",
     "output_type": "stream",
     "text": [
      "Mean r2 score for Ada Boost Regression: 0.15958481957290094\n",
      "Standard Deviation in r2 score for Ada Boost Regression: 0.017811852327748463\n"
     ]
    }
   ],
   "source": [
    "from sklearn.model_selection import cross_val_score\n",
    "ada_reg=AdaBoostRegressor(base_estimator=LinearRegression(),learning_rate=.001,n_estimators=500)\n",
    "print(\"Mean r2 score for Ada Boost Regression:\",cross_val_score(ada_reg,x,y,cv=5,scoring='r2').mean())\n",
    "print('Standard Deviation in r2 score for Ada Boost Regression:',cross_val_score(ada_reg,x,y,cv=5,scoring='r2').std())"
   ]
  },
  {
   "cell_type": "code",
   "execution_count": 741,
   "metadata": {},
   "outputs": [
    {
     "name": "stdout",
     "output_type": "stream",
     "text": [
      "r2 score corresponding to 42 is 0.16501039913679993\n",
      "r2 score corresponding to 43 is 0.17275408687351845\n",
      "r2 score corresponding to 44 is 0.14556279171234476\n",
      "r2 score corresponding to 45 is 0.15529395355325115\n",
      "r2 score corresponding to 46 is 0.17557562130572668\n",
      "r2 score corresponding to 47 is 0.15311651753013455\n",
      "r2 score corresponding to 48 is 0.20164153869376267\n",
      "r2 score corresponding to 49 is 0.14802110478121\n",
      "r2 score corresponding to 50 is 0.15362532186944744\n",
      "r2 score corresponding to 51 is 0.200048182241782\n",
      "r2 score corresponding to 52 is 0.163119033040381\n",
      "r2 score corresponding to 53 is 0.15201259391238275\n",
      "r2 score corresponding to 54 is 0.18522643704562025\n",
      "r2 score corresponding to 55 is 0.13515126350960427\n",
      "r2 score corresponding to 56 is 0.1764347455055929\n",
      "r2 score corresponding to 57 is 0.14456420105839518\n",
      "r2 score corresponding to 58 is 0.1936100818683978\n",
      "r2 score corresponding to 59 is 0.17681933483767365\n",
      "r2 score corresponding to 60 is 0.17969904562070327\n",
      "r2 score corresponding to 61 is 0.15402324291643776\n",
      "r2 score corresponding to 62 is 0.18103485693383192\n",
      "r2 score corresponding to 63 is 0.17765568982015023\n",
      "r2 score corresponding to 64 is 0.17600974435940286\n",
      "r2 score corresponding to 65 is 0.17868174213000243\n",
      "r2 score corresponding to 66 is 0.16721381418701453\n",
      "r2 score corresponding to 67 is 0.17102811398095674\n",
      "r2 score corresponding to 68 is 0.14446317116078966\n",
      "r2 score corresponding to 69 is 0.13084521030573293\n",
      "r2 score corresponding to 70 is 0.1503677123627024\n",
      "r2 score corresponding to 71 is -1.3980846783870332e+22\n",
      "r2 score corresponding to 72 is 0.16808808560351307\n",
      "r2 score corresponding to 73 is 0.16161803745992676\n",
      "r2 score corresponding to 74 is 0.14462039295600715\n",
      "r2 score corresponding to 75 is 0.17228323878798746\n",
      "r2 score corresponding to 76 is 0.1527057873813661\n",
      "r2 score corresponding to 77 is 0.1482678732241154\n",
      "r2 score corresponding to 78 is 0.15310883152124566\n",
      "r2 score corresponding to 79 is 0.15318637519884803\n",
      "r2 score corresponding to 80 is 0.1690500089090835\n",
      "r2 score corresponding to 81 is 0.16208062337973184\n",
      "r2 score corresponding to 82 is 0.1762523884347007\n",
      "r2 score corresponding to 83 is 0.1580040952339501\n",
      "r2 score corresponding to 84 is 0.1567292568112435\n",
      "r2 score corresponding to 85 is 0.15275550656496284\n",
      "r2 score corresponding to 86 is 0.155797954386519\n",
      "r2 score corresponding to 87 is 0.18468909890356666\n",
      "r2 score corresponding to 88 is 0.12724605860561145\n",
      "r2 score corresponding to 89 is 0.15585693624820796\n",
      "r2 score corresponding to 90 is 0.16242726139965358\n",
      "r2 score corresponding to 91 is 0.17948360870350555\n",
      "r2 score corresponding to 92 is 0.13817423941606233\n",
      "r2 score corresponding to 93 is 0.15911975011930368\n",
      "r2 score corresponding to 94 is 0.13956038495123335\n",
      "r2 score corresponding to 95 is 0.13105073389387367\n",
      "r2 score corresponding to 96 is 0.13472280132203918\n",
      "r2 score corresponding to 97 is 0.15321433194927103\n",
      "r2 score corresponding to 98 is 0.1490779720920885\n",
      "r2 score corresponding to 99 is 0.15471666025990105\n",
      "max r2 score corresponding to 48 is 0.20164153869376267\n"
     ]
    }
   ],
   "source": [
    "#checking maximum r2 score corresponding to Ada Boost\n",
    "r_state=maxr2_score(ada_reg,x,y)"
   ]
  },
  {
   "cell_type": "code",
   "execution_count": 742,
   "metadata": {},
   "outputs": [],
   "source": [
    "#We tried all methods and till now GradientBoostingRegressor is the best option \n",
    "#Random state corresponding to highest r2 score is 48\n",
    "x_train,x_test,y_train,y_test=train_test_split(x,y,random_state=48,test_size=0.20)\n",
    "gbr=GradientBoostingRegressor()\n",
    "gbr.fit(x_train,y_train)\n",
    "y_pred=gbr.predict(x_test)"
   ]
  },
  {
   "cell_type": "code",
   "execution_count": 743,
   "metadata": {},
   "outputs": [
    {
     "name": "stdout",
     "output_type": "stream",
     "text": [
      "RMSE is: 0.5797592714526648\n",
      "r2 score is: 0.22447830208094377\n"
     ]
    }
   ],
   "source": [
    "#Finding RMSE and r2 score using sklearn.metrics\n",
    "import numpy as np\n",
    "from sklearn.metrics import r2_score\n",
    "from sklearn.metrics import mean_squared_error\n",
    "print(\"RMSE is:\",np.sqrt(mean_squared_error(y_test,y_pred)))\n",
    "print(\"r2 score is:\",r2_score(y_test,y_pred))"
   ]
  },
  {
   "cell_type": "code",
   "execution_count": 744,
   "metadata": {},
   "outputs": [
    {
     "data": {
      "text/plain": [
       "['Project13_DocFees.pkl']"
      ]
     },
     "execution_count": 744,
     "metadata": {},
     "output_type": "execute_result"
    }
   ],
   "source": [
    "#Saving the modelas a pickle in a file\n",
    "from sklearn.externals import joblib\n",
    "joblib.dump(gbr,\"Project13_DocFees.pkl\")"
   ]
  }
 ],
 "metadata": {
  "kernelspec": {
   "display_name": "Python 3",
   "language": "python",
   "name": "python3"
  },
  "language_info": {
   "codemirror_mode": {
    "name": "ipython",
    "version": 3
   },
   "file_extension": ".py",
   "mimetype": "text/x-python",
   "name": "python",
   "nbconvert_exporter": "python",
   "pygments_lexer": "ipython3",
   "version": "3.7.6"
  }
 },
 "nbformat": 4,
 "nbformat_minor": 4
}
