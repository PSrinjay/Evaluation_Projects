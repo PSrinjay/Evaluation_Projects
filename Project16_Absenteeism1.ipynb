{
 "cells": [
  {
   "cell_type": "code",
   "execution_count": null,
   "metadata": {},
   "outputs": [],
   "source": [
    "import pandas as pd\n",
    "import numpy as np\n",
    "import seaborn as sns\n",
    "import matplotlib.pyplot as plt\n",
    "import warnings\n",
    "warnings.filterwarnings('ignore')"
   ]
  },
  {
   "cell_type": "code",
   "execution_count": null,
   "metadata": {},
   "outputs": [],
   "source": [
    "df_abs=pd.read_csv('E:/Absenteeism_at_work.csv',sep=';')\n",
    "df_abs=pd.DataFrame(df_abs)\n",
    "df_abs"
   ]
  },
  {
   "cell_type": "code",
   "execution_count": null,
   "metadata": {},
   "outputs": [],
   "source": [
    "#checking for any missing data\n",
    "sns.heatmap(df_abs.isnull())"
   ]
  },
  {
   "cell_type": "code",
   "execution_count": null,
   "metadata": {},
   "outputs": [],
   "source": [
    "df_abs.isnull().sum()"
   ]
  },
  {
   "cell_type": "raw",
   "metadata": {},
   "source": [
    "There are no missing values"
   ]
  },
  {
   "cell_type": "code",
   "execution_count": null,
   "metadata": {},
   "outputs": [],
   "source": [
    "for i in df_abs.columns:\n",
    "    print(df_abs[i].value_counts())"
   ]
  },
  {
   "cell_type": "code",
   "execution_count": null,
   "metadata": {},
   "outputs": [],
   "source": [
    "df_abs.dtypes\n",
    "#checking the datatypes"
   ]
  },
  {
   "cell_type": "code",
   "execution_count": null,
   "metadata": {},
   "outputs": [],
   "source": [
    "#checking the basic info about the attributes and their counts\n",
    "df_abs.info()"
   ]
  },
  {
   "cell_type": "code",
   "execution_count": null,
   "metadata": {},
   "outputs": [],
   "source": [
    "#checking the maximum and minimum values of each attribute and their percentiles\n",
    "df_abs.describe()"
   ]
  },
  {
   "cell_type": "raw",
   "metadata": {},
   "source": [
    "Mean<Median(50 percentile) in Reason for absence,Work load Average/day,Weight: Right Skewed Distribution\n",
    "\n",
    "Mean=Median in Month of absence,Day of the week,Seasons,Transportation expense,Service time,\n",
    "Age,Height,Body mass index: Normal Distribution\n",
    "\n",
    "Mean>Median in Distance from Residence to Work,Absenteeism time in hours: Right Skewed Distribution"
   ]
  },
  {
   "cell_type": "markdown",
   "metadata": {},
   "source": [
    "# Univariate Analysis"
   ]
  },
  {
   "cell_type": "code",
   "execution_count": null,
   "metadata": {},
   "outputs": [],
   "source": [
    "df_abs.hist(figsize = (20,10), layout=(6, 4), bins = 'auto')\n",
    "plt.tight_layout()\n",
    "plt.show()"
   ]
  },
  {
   "cell_type": "code",
   "execution_count": null,
   "metadata": {},
   "outputs": [],
   "source": [
    "df_abs.drop(['ID'],axis=1,inplace=True)"
   ]
  },
  {
   "cell_type": "code",
   "execution_count": null,
   "metadata": {},
   "outputs": [],
   "source": [
    "df_abs.columns"
   ]
  },
  {
   "cell_type": "code",
   "execution_count": null,
   "metadata": {},
   "outputs": [],
   "source": [
    "for i in df_abs.columns :\n",
    "    plt.boxplot(df_abs[i])\n",
    "    plt.show()"
   ]
  },
  {
   "cell_type": "raw",
   "metadata": {},
   "source": [
    "'Transportation expense','Service time', 'Age', 'Work load Average/day ','Pet','Height','Absenteeism time in hours'\n",
    "have outliers"
   ]
  },
  {
   "cell_type": "code",
   "execution_count": null,
   "metadata": {},
   "outputs": [],
   "source": [
    "for i in df_abs.columns:\n",
    "    sns.violinplot(x=i,data=df_abs)\n",
    "    plt.tight_layout()\n",
    "    plt.show()"
   ]
  },
  {
   "cell_type": "code",
   "execution_count": null,
   "metadata": {},
   "outputs": [],
   "source": [
    "#Checking for the distribution of the data\n",
    "for i in ['Reason for absence', 'Month of absence', 'Day of the week', 'Seasons',\n",
    "       'Transportation expense', 'Distance from Residence to Work',\n",
    "       'Service time', 'Age', 'Work load Average/day ', 'Hit target','Son', 'Social drinker',\n",
    "      'Pet', 'Weight', 'Height', 'Body mass index',\n",
    "       'Absenteeism time in hours']:\n",
    "    sns.distplot(df_abs[i],bins='auto')\n",
    "    plt.tight_layout()\n",
    "    plt.show()"
   ]
  },
  {
   "cell_type": "markdown",
   "metadata": {},
   "source": [
    "# Bivariate Analysis"
   ]
  },
  {
   "cell_type": "code",
   "execution_count": null,
   "metadata": {},
   "outputs": [],
   "source": [
    "for i in df_abs.columns:\n",
    "    sns.barplot(df_abs['Absenteeism time in hours'],df_abs[i])\n",
    "    plt.tight_layout()\n",
    "    plt.show()"
   ]
  },
  {
   "cell_type": "code",
   "execution_count": null,
   "metadata": {},
   "outputs": [],
   "source": [
    "for i in df_abs.columns:\n",
    "    sns.catplot(x=i,y='Absenteeism time in hours',data=df_abs)\n",
    "    plt.tight_layout()\n",
    "    plt.show()"
   ]
  },
  {
   "cell_type": "code",
   "execution_count": null,
   "metadata": {},
   "outputs": [],
   "source": [
    "#Checking the correlation between the attributes\n",
    "df_abs.corr()"
   ]
  },
  {
   "cell_type": "code",
   "execution_count": null,
   "metadata": {},
   "outputs": [],
   "source": [
    "plt.figure(figsize=(25,12))\n",
    "sns.heatmap(df_abs.corr(),cmap='coolwarm',annot=True)\n",
    "plt.show()"
   ]
  },
  {
   "cell_type": "raw",
   "metadata": {},
   "source": [
    "'Month of absence' & 'Seasons', 'Son' & 'Transportation expense','Service time' & 'Age',\n",
    "'Transportation expense' & 'Pet', 'Social drinker' & 'Distance from Residence to Work','Social drinker' & 'Weight',\n",
    "'Social drinker' &  'Body mass index', 'Weight' & 'Body mass index' have high positive correlation\n",
    "\n",
    "'Service time' is highly positively correlated to 'Social drinker','Weight','Body mass index', 'Age'\n",
    "\n",
    "'Age' is highly positively correlated to 'Weight' & 'Body mass index'"
   ]
  },
  {
   "cell_type": "code",
   "execution_count": null,
   "metadata": {},
   "outputs": [],
   "source": [
    "df_abs.drop(['Month of absence', 'Day of the week', 'Seasons','Hit target','Weight', 'Height'],axis=1,inplace = True)"
   ]
  },
  {
   "cell_type": "code",
   "execution_count": null,
   "metadata": {},
   "outputs": [],
   "source": [
    "df_abs.columns"
   ]
  },
  {
   "cell_type": "code",
   "execution_count": null,
   "metadata": {},
   "outputs": [],
   "source": [
    "df_abs['Absenteeism']=[\"Late\" if period<=0 else\n",
    "                       'Very late'if 0<=period<=10 else \n",
    "                       \"Not acceptable late\" if period>=10 else None\n",
    "                      for period in list (df_abs['Absenteeism time in hours'].values)]"
   ]
  },
  {
   "cell_type": "code",
   "execution_count": null,
   "metadata": {},
   "outputs": [],
   "source": [
    "df_abs['Absenteeism']"
   ]
  },
  {
   "cell_type": "code",
   "execution_count": null,
   "metadata": {},
   "outputs": [],
   "source": [
    "df_abs.columns"
   ]
  },
  {
   "cell_type": "code",
   "execution_count": null,
   "metadata": {},
   "outputs": [],
   "source": [
    "import sklearn\n",
    "from sklearn.preprocessing import LabelEncoder\n",
    "le=LabelEncoder()\n",
    "df_abs['Absenteeism']=le.fit_transform(df_abs['Absenteeism'])"
   ]
  },
  {
   "cell_type": "code",
   "execution_count": null,
   "metadata": {},
   "outputs": [],
   "source": [
    "df_abs.drop(['Absenteeism time in hours'],axis=1,inplace = True)"
   ]
  },
  {
   "cell_type": "markdown",
   "metadata": {},
   "source": [
    "# Multivariate Analysis"
   ]
  },
  {
   "cell_type": "code",
   "execution_count": null,
   "metadata": {},
   "outputs": [],
   "source": [
    "sns.pairplot(df_abs)"
   ]
  },
  {
   "cell_type": "code",
   "execution_count": null,
   "metadata": {},
   "outputs": [],
   "source": [
    "#Cheking the skewness of data\n",
    "df_abs.skew()"
   ]
  },
  {
   "cell_type": "code",
   "execution_count": null,
   "metadata": {},
   "outputs": [],
   "source": [
    "#removing skewness using log transform\n",
    "for col in ['Age']:\n",
    "        df_abs[col]=np.log1p(df_abs[col])"
   ]
  },
  {
   "cell_type": "code",
   "execution_count": null,
   "metadata": {},
   "outputs": [],
   "source": [
    "df_abs.skew()\n",
    "#reduce skewness"
   ]
  },
  {
   "cell_type": "code",
   "execution_count": null,
   "metadata": {},
   "outputs": [],
   "source": [
    "#removing outliers using zscore\n",
    "from scipy.stats import zscore\n",
    "zscore=np.abs(zscore(df_abs))\n",
    "print(zscore)\n",
    "print(np.where(zscore>3))\n",
    "df_abs_new=df_abs[(zscore<3).all(axis=1)]"
   ]
  },
  {
   "cell_type": "code",
   "execution_count": null,
   "metadata": {},
   "outputs": [],
   "source": [
    "print('Before removing outliers:',df_abs.shape)\n",
    "print('After removing outliers:',df_abs_new.shape)"
   ]
  },
  {
   "cell_type": "code",
   "execution_count": null,
   "metadata": {},
   "outputs": [],
   "source": [
    "#separating into input and output variables\n",
    "df_x=df_abs_new.drop(columns=['Absenteeism'])\n",
    "y=pd.DataFrame(df_abs_new['Absenteeism'])"
   ]
  },
  {
   "cell_type": "code",
   "execution_count": null,
   "metadata": {},
   "outputs": [],
   "source": [
    "df_x.shape"
   ]
  },
  {
   "cell_type": "code",
   "execution_count": null,
   "metadata": {},
   "outputs": [],
   "source": [
    "y.shape"
   ]
  },
  {
   "cell_type": "code",
   "execution_count": null,
   "metadata": {},
   "outputs": [],
   "source": [
    "from sklearn.preprocessing import StandardScaler\n",
    "sc=StandardScaler()\n",
    "x=sc.fit_transform(df_x)\n",
    "x=pd.DataFrame(x,columns=df_x.columns)"
   ]
  },
  {
   "cell_type": "code",
   "execution_count": null,
   "metadata": {},
   "outputs": [],
   "source": [
    "from sklearn.linear_model import LogisticRegression\n",
    "from sklearn.svm import SVC\n",
    "from sklearn.tree import DecisionTreeClassifier\n",
    "from sklearn.neighbors import KNeighborsClassifier\n",
    "from sklearn.naive_bayes import GaussianNB                                                                                                                   \n",
    "from sklearn.ensemble import RandomForestClassifier\n",
    "from sklearn.model_selection import train_test_split\n",
    "from sklearn.metrics import accuracy_score,confusion_matrix,classification_report,roc_curve,auc"
   ]
  },
  {
   "cell_type": "code",
   "execution_count": null,
   "metadata": {},
   "outputs": [],
   "source": [
    "max_acc_scr=0\n",
    "for r_state in range(42,101):\n",
    "    x_train,x_test,y_train,y_test=train_test_split(x,y,random_state=r_state,test_size=0.20)\n",
    "    model=[LogisticRegression(),SVC(),DecisionTreeClassifier(),KNeighborsClassifier(),GaussianNB(),RandomForestClassifier()]\n",
    "    for m in model:\n",
    "        m.fit(x_train,y_train)\n",
    "        m.score(x_train,y_train)\n",
    "        predm=m.predict(x_test)\n",
    "        accscr=accuracy_score(y_test,predm)\n",
    "        conmatrix=confusion_matrix(y_test,predm)\n",
    "        classreport=classification_report(y_test,predm)\n",
    "        print(\"accuracy score of\",m,'is:')\n",
    "        print('accuracy score corresponding to random state:',r_state,'is:',accscr)\n",
    "        print('confusion matrix corresponding to random state:',r_state,'is:',conmatrix)\n",
    "        print('classification report corresponding to random state:',r_state,'is:',classreport)\n",
    "        if accscr>max_acc_scr:\n",
    "            max_acc_scr=accscr\n",
    "            final_r_state=r_state\n",
    "            final_model=m\n",
    "        print()"
   ]
  },
  {
   "cell_type": "code",
   "execution_count": null,
   "metadata": {},
   "outputs": [],
   "source": [
    "print(\"Max accuracy Score corresponding to random state\",final_r_state,\"is\",max_acc_scr,'and model is',final_model)"
   ]
  },
  {
   "cell_type": "code",
   "execution_count": null,
   "metadata": {},
   "outputs": [],
   "source": [
    "LR=LogisticRegression()\n",
    "SV=SVC()\n",
    "DT=DecisionTreeClassifier()\n",
    "KNN=KNeighborsClassifier()\n",
    "GNB=GaussianNB()\n",
    "RFC=RandomForestClassifier()"
   ]
  },
  {
   "cell_type": "code",
   "execution_count": null,
   "metadata": {},
   "outputs": [],
   "source": [
    "models=[]\n",
    "models.append(('LogisticRegression',LR))\n",
    "models.append(('SVC',SV))\n",
    "models.append(('DecisionTreeClassifier',DT))\n",
    "models.append(('KNeighborsClassifier',KNN))\n",
    "models.append(('GaussianNB',GNB))\n",
    "models.append(('RandomForestClassifier',RFC))"
   ]
  },
  {
   "cell_type": "code",
   "execution_count": null,
   "metadata": {},
   "outputs": [],
   "source": [
    "Model=[]\n",
    "score=[]\n",
    "cvs=[]\n",
    "rocscore=[]\n",
    "for name,model in models:\n",
    "    print('***********',name,'***********')\n",
    "    print('\\n')\n",
    "    Model.append(name)\n",
    "    model.fit(x_train,y_train)\n",
    "    print(model)\n",
    "    pre=model.predict(x_test)\n",
    "    print('\\n')\n",
    "    AS=accuracy_score(y_test,pre)\n",
    "    print(\"Accuracy_score=\",AS)\n",
    "    score.append(AS*100)\n",
    "    print('\\n')\n",
    "    false_positive_rate,true_positive_rate, thresholds = roc_curve(y_test,pre,pos_label=1)\n",
    "    roc_auc= auc(false_positive_rate,true_positive_rate)\n",
    "    print(\"roc_auc_score=\",roc_auc)\n",
    "    rocscore.append(roc_auc*100)\n",
    "    print('\\n')\n",
    "    print('classification_report\\n',classification_report(y_test,pre))\n",
    "    print('\\n')\n",
    "    cm=confusion_matrix(y_test,pre)\n",
    "    print(cm)\n",
    "    print('\\n')\n",
    "    plt.figure(figsize=(10,40))\n",
    "    plt.subplot(911)\n",
    "    plt.title(name)\n",
    "    print(sns.heatmap(cm,annot=True))\n",
    "    plt.subplot(912)\n",
    "    plt.title(name)\n",
    "    plt.plot(false_positive_rate,true_positive_rate,label='AUC= %0.2f'% roc_auc)\n",
    "    plt.plot([0,1],[0,1],'r--')\n",
    "    plt.legend(loc='lower right')\n",
    "    plt.ylabel('True Positive Rate')\n",
    "    plt.xlabel('False Positive Rate')\n",
    "    print('\\n\\n')   "
   ]
  },
  {
   "cell_type": "code",
   "execution_count": null,
   "metadata": {},
   "outputs": [],
   "source": [
    "import sklearn\n",
    "from sklearn.model_selection import cross_val_score\n",
    "score=cross_val_score(sklearn.svm.SVC(),x,y,cv=5)\n",
    "print(score)\n",
    "print(score.mean())\n",
    "print(score.std())"
   ]
  },
  {
   "cell_type": "code",
   "execution_count": null,
   "metadata": {},
   "outputs": [],
   "source": [
    "#Trying to use Gradient Boosting Technique\n",
    "#For getting best set of parameters, using GridSearchCV\n",
    "from sklearn.model_selection import GridSearchCV\n",
    "from sklearn.ensemble import GradientBoostingClassifier\n",
    "gbc=GradientBoostingClassifier()\n",
    "parameters={'learning_rate':[0.0001,0.001,0.01,0.1,1],'n_estimators':[50,100,150,200,250,300,350,400,450,500]}\n",
    "clf=GridSearchCV(gbc,parameters,cv=5)\n",
    "clf.fit(x,y)\n",
    "clf.best_params_"
   ]
  },
  {
   "cell_type": "code",
   "execution_count": null,
   "metadata": {},
   "outputs": [],
   "source": [
    "#Using cross val score to check the mean score and standard deviation\n",
    "gbc=GradientBoostingClassifier(learning_rate=0.0001,n_estimators=50)\n",
    "print(\"Mean score for Gradient Boosting Classifier:\",cross_val_score(gbc,x,y,cv=5).mean())\n",
    "print('Standard Deviation in score for Gradient Boosting Classifier:',cross_val_score(gbc,x,y,cv=5).std())"
   ]
  },
  {
   "cell_type": "code",
   "execution_count": null,
   "metadata": {},
   "outputs": [],
   "source": [
    "max_acc_scr=0\n",
    "for r_state in range(42,101):\n",
    "    x_train,x_test,y_train,y_test=train_test_split(x,y,random_state=r_state,test_size=0.20)\n",
    "    model=[GradientBoostingClassifier(learning_rate=0.1,n_estimators=200)]\n",
    "    for m in model:\n",
    "        m.fit(x_train,y_train)\n",
    "        m.score(x_train,y_train)\n",
    "        predm=m.predict(x_test)\n",
    "        accscr=accuracy_score(y_test,predm)\n",
    "        conmatrix=confusion_matrix(y_test,predm)\n",
    "        classreport=classification_report(y_test,predm)\n",
    "        print(\"accuracy score of\",m,'is:')\n",
    "        print('accuracy score corresponding to random state:',r_state,'is:',accscr)\n",
    "        print('confusion matrix corresponding to random state:',r_state,'is:',conmatrix)\n",
    "        print('classification report corresponding to random state:',r_state,'is:',classreport)\n",
    "        if accscr>max_acc_scr:\n",
    "            max_acc_scr=accscr\n",
    "            final_r_state=r_state\n",
    "            final_model=m\n",
    "        print()"
   ]
  },
  {
   "cell_type": "code",
   "execution_count": null,
   "metadata": {},
   "outputs": [],
   "source": [
    "print(\"Max accuracy Score corresponding to random state\",final_r_state,\"is\",max_acc_scr)"
   ]
  },
  {
   "cell_type": "code",
   "execution_count": null,
   "metadata": {},
   "outputs": [],
   "source": [
    "#We tried all methods and till now SVC is the best option \n",
    "#Random state corresponding to highest r2 score is 63\n",
    "x_train,x_test,y_train,y_test=train_test_split(x,y,random_state=63,test_size=0.20)\n",
    "sv=SVC()\n",
    "sv.fit(x_train,y_train)\n",
    "predm=sv.predict(x_test)\n",
    "accscr=accuracy_score(y_test,predm)\n",
    "print(\"Mean score for SVC:\",cross_val_score(sv,x,y,cv=5).mean())\n",
    "print('Standard Deviation in score for SVC:',cross_val_score(sv,x,y,cv=5).std())\n",
    "print(\"Accuracy score is:\",accuracy_score(y_test,predm))"
   ]
  },
  {
   "cell_type": "code",
   "execution_count": null,
   "metadata": {},
   "outputs": [],
   "source": [
    "#Saving the modelas a pickle in a file\n",
    "from sklearn.externals import joblib\n",
    "joblib.dump(sv,\"Project16_Absenteeism.pkl\")"
   ]
  }
 ],
 "metadata": {
  "kernelspec": {
   "display_name": "Python 3",
   "language": "python",
   "name": "python3"
  },
  "language_info": {
   "codemirror_mode": {
    "name": "ipython",
    "version": 3
   },
   "file_extension": ".py",
   "mimetype": "text/x-python",
   "name": "python",
   "nbconvert_exporter": "python",
   "pygments_lexer": "ipython3",
   "version": "3.7.6"
  }
 },
 "nbformat": 4,
 "nbformat_minor": 4
}
